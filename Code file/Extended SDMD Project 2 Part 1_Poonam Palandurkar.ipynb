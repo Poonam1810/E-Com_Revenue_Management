{
 "cells": [
  {
   "cell_type": "code",
   "execution_count": 138,
   "id": "57a87a10",
   "metadata": {},
   "outputs": [],
   "source": [
    "import pandas as pd\n",
    "import numpy as np\n",
    "import matplotlib.pyplot as plt\n",
    "import seaborn as sns\n",
    "%matplotlib inline\n",
    "import warnings\n",
    "warnings.filterwarnings('ignore')"
   ]
  },
  {
   "cell_type": "code",
   "execution_count": 73,
   "id": "cde18103",
   "metadata": {},
   "outputs": [],
   "source": [
    "df=pd.read_csv('Wholesale Customer.csv')"
   ]
  },
  {
   "cell_type": "markdown",
   "id": "5bd304a0",
   "metadata": {},
   "source": [
    "# 1.1.1 Use methods of descriptive statistics to summarize data. "
   ]
  },
  {
   "cell_type": "code",
   "execution_count": 74,
   "id": "3613c99a",
   "metadata": {},
   "outputs": [
    {
     "data": {
      "text/html": [
       "<div>\n",
       "<style scoped>\n",
       "    .dataframe tbody tr th:only-of-type {\n",
       "        vertical-align: middle;\n",
       "    }\n",
       "\n",
       "    .dataframe tbody tr th {\n",
       "        vertical-align: top;\n",
       "    }\n",
       "\n",
       "    .dataframe thead th {\n",
       "        text-align: right;\n",
       "    }\n",
       "</style>\n",
       "<table border=\"1\" class=\"dataframe\">\n",
       "  <thead>\n",
       "    <tr style=\"text-align: right;\">\n",
       "      <th></th>\n",
       "      <th>Buyer/Spender</th>\n",
       "      <th>Channel</th>\n",
       "      <th>Region</th>\n",
       "      <th>Fresh</th>\n",
       "      <th>Milk</th>\n",
       "      <th>Grocery</th>\n",
       "      <th>Frozen</th>\n",
       "      <th>Detergents_Paper</th>\n",
       "      <th>Delicatessen</th>\n",
       "    </tr>\n",
       "  </thead>\n",
       "  <tbody>\n",
       "    <tr>\n",
       "      <th>0</th>\n",
       "      <td>1</td>\n",
       "      <td>Retail</td>\n",
       "      <td>Other</td>\n",
       "      <td>12669</td>\n",
       "      <td>9656</td>\n",
       "      <td>7561</td>\n",
       "      <td>214</td>\n",
       "      <td>2674</td>\n",
       "      <td>1338</td>\n",
       "    </tr>\n",
       "    <tr>\n",
       "      <th>1</th>\n",
       "      <td>2</td>\n",
       "      <td>Retail</td>\n",
       "      <td>Other</td>\n",
       "      <td>7057</td>\n",
       "      <td>9810</td>\n",
       "      <td>9568</td>\n",
       "      <td>1762</td>\n",
       "      <td>3293</td>\n",
       "      <td>1776</td>\n",
       "    </tr>\n",
       "    <tr>\n",
       "      <th>2</th>\n",
       "      <td>3</td>\n",
       "      <td>Retail</td>\n",
       "      <td>Other</td>\n",
       "      <td>6353</td>\n",
       "      <td>8808</td>\n",
       "      <td>7684</td>\n",
       "      <td>2405</td>\n",
       "      <td>3516</td>\n",
       "      <td>7844</td>\n",
       "    </tr>\n",
       "    <tr>\n",
       "      <th>3</th>\n",
       "      <td>4</td>\n",
       "      <td>Hotel</td>\n",
       "      <td>Other</td>\n",
       "      <td>13265</td>\n",
       "      <td>1196</td>\n",
       "      <td>4221</td>\n",
       "      <td>6404</td>\n",
       "      <td>507</td>\n",
       "      <td>1788</td>\n",
       "    </tr>\n",
       "    <tr>\n",
       "      <th>4</th>\n",
       "      <td>5</td>\n",
       "      <td>Retail</td>\n",
       "      <td>Other</td>\n",
       "      <td>22615</td>\n",
       "      <td>5410</td>\n",
       "      <td>7198</td>\n",
       "      <td>3915</td>\n",
       "      <td>1777</td>\n",
       "      <td>5185</td>\n",
       "    </tr>\n",
       "  </tbody>\n",
       "</table>\n",
       "</div>"
      ],
      "text/plain": [
       "   Buyer/Spender Channel Region  Fresh  Milk  Grocery  Frozen  \\\n",
       "0              1  Retail  Other  12669  9656     7561     214   \n",
       "1              2  Retail  Other   7057  9810     9568    1762   \n",
       "2              3  Retail  Other   6353  8808     7684    2405   \n",
       "3              4   Hotel  Other  13265  1196     4221    6404   \n",
       "4              5  Retail  Other  22615  5410     7198    3915   \n",
       "\n",
       "   Detergents_Paper  Delicatessen  \n",
       "0              2674          1338  \n",
       "1              3293          1776  \n",
       "2              3516          7844  \n",
       "3               507          1788  \n",
       "4              1777          5185  "
      ]
     },
     "execution_count": 74,
     "metadata": {},
     "output_type": "execute_result"
    }
   ],
   "source": [
    "df.head()"
   ]
  },
  {
   "cell_type": "code",
   "execution_count": 75,
   "id": "1bd370c0",
   "metadata": {},
   "outputs": [
    {
     "data": {
      "text/html": [
       "<div>\n",
       "<style scoped>\n",
       "    .dataframe tbody tr th:only-of-type {\n",
       "        vertical-align: middle;\n",
       "    }\n",
       "\n",
       "    .dataframe tbody tr th {\n",
       "        vertical-align: top;\n",
       "    }\n",
       "\n",
       "    .dataframe thead th {\n",
       "        text-align: right;\n",
       "    }\n",
       "</style>\n",
       "<table border=\"1\" class=\"dataframe\">\n",
       "  <thead>\n",
       "    <tr style=\"text-align: right;\">\n",
       "      <th></th>\n",
       "      <th>Buyer/Spender</th>\n",
       "      <th>Channel</th>\n",
       "      <th>Region</th>\n",
       "      <th>Fresh</th>\n",
       "      <th>Milk</th>\n",
       "      <th>Grocery</th>\n",
       "      <th>Frozen</th>\n",
       "      <th>Detergents_Paper</th>\n",
       "      <th>Delicatessen</th>\n",
       "    </tr>\n",
       "  </thead>\n",
       "  <tbody>\n",
       "    <tr>\n",
       "      <th>435</th>\n",
       "      <td>436</td>\n",
       "      <td>Hotel</td>\n",
       "      <td>Other</td>\n",
       "      <td>29703</td>\n",
       "      <td>12051</td>\n",
       "      <td>16027</td>\n",
       "      <td>13135</td>\n",
       "      <td>182</td>\n",
       "      <td>2204</td>\n",
       "    </tr>\n",
       "    <tr>\n",
       "      <th>436</th>\n",
       "      <td>437</td>\n",
       "      <td>Hotel</td>\n",
       "      <td>Other</td>\n",
       "      <td>39228</td>\n",
       "      <td>1431</td>\n",
       "      <td>764</td>\n",
       "      <td>4510</td>\n",
       "      <td>93</td>\n",
       "      <td>2346</td>\n",
       "    </tr>\n",
       "    <tr>\n",
       "      <th>437</th>\n",
       "      <td>438</td>\n",
       "      <td>Retail</td>\n",
       "      <td>Other</td>\n",
       "      <td>14531</td>\n",
       "      <td>15488</td>\n",
       "      <td>30243</td>\n",
       "      <td>437</td>\n",
       "      <td>14841</td>\n",
       "      <td>1867</td>\n",
       "    </tr>\n",
       "    <tr>\n",
       "      <th>438</th>\n",
       "      <td>439</td>\n",
       "      <td>Hotel</td>\n",
       "      <td>Other</td>\n",
       "      <td>10290</td>\n",
       "      <td>1981</td>\n",
       "      <td>2232</td>\n",
       "      <td>1038</td>\n",
       "      <td>168</td>\n",
       "      <td>2125</td>\n",
       "    </tr>\n",
       "    <tr>\n",
       "      <th>439</th>\n",
       "      <td>440</td>\n",
       "      <td>Hotel</td>\n",
       "      <td>Other</td>\n",
       "      <td>2787</td>\n",
       "      <td>1698</td>\n",
       "      <td>2510</td>\n",
       "      <td>65</td>\n",
       "      <td>477</td>\n",
       "      <td>52</td>\n",
       "    </tr>\n",
       "  </tbody>\n",
       "</table>\n",
       "</div>"
      ],
      "text/plain": [
       "     Buyer/Spender Channel Region  Fresh   Milk  Grocery  Frozen  \\\n",
       "435            436   Hotel  Other  29703  12051    16027   13135   \n",
       "436            437   Hotel  Other  39228   1431      764    4510   \n",
       "437            438  Retail  Other  14531  15488    30243     437   \n",
       "438            439   Hotel  Other  10290   1981     2232    1038   \n",
       "439            440   Hotel  Other   2787   1698     2510      65   \n",
       "\n",
       "     Detergents_Paper  Delicatessen  \n",
       "435               182          2204  \n",
       "436                93          2346  \n",
       "437             14841          1867  \n",
       "438               168          2125  \n",
       "439               477            52  "
      ]
     },
     "execution_count": 75,
     "metadata": {},
     "output_type": "execute_result"
    }
   ],
   "source": [
    "df.tail()"
   ]
  },
  {
   "cell_type": "code",
   "execution_count": 76,
   "id": "926dc1e2",
   "metadata": {},
   "outputs": [
    {
     "name": "stdout",
     "output_type": "stream",
     "text": [
      "<class 'pandas.core.frame.DataFrame'>\n",
      "RangeIndex: 440 entries, 0 to 439\n",
      "Data columns (total 9 columns):\n",
      " #   Column            Non-Null Count  Dtype \n",
      "---  ------            --------------  ----- \n",
      " 0   Buyer/Spender     440 non-null    int64 \n",
      " 1   Channel           440 non-null    object\n",
      " 2   Region            440 non-null    object\n",
      " 3   Fresh             440 non-null    int64 \n",
      " 4   Milk              440 non-null    int64 \n",
      " 5   Grocery           440 non-null    int64 \n",
      " 6   Frozen            440 non-null    int64 \n",
      " 7   Detergents_Paper  440 non-null    int64 \n",
      " 8   Delicatessen      440 non-null    int64 \n",
      "dtypes: int64(7), object(2)\n",
      "memory usage: 31.1+ KB\n"
     ]
    }
   ],
   "source": [
    "df.info()"
   ]
  },
  {
   "cell_type": "code",
   "execution_count": 77,
   "id": "228a79c2",
   "metadata": {},
   "outputs": [
    {
     "data": {
      "text/html": [
       "<div>\n",
       "<style scoped>\n",
       "    .dataframe tbody tr th:only-of-type {\n",
       "        vertical-align: middle;\n",
       "    }\n",
       "\n",
       "    .dataframe tbody tr th {\n",
       "        vertical-align: top;\n",
       "    }\n",
       "\n",
       "    .dataframe thead th {\n",
       "        text-align: right;\n",
       "    }\n",
       "</style>\n",
       "<table border=\"1\" class=\"dataframe\">\n",
       "  <thead>\n",
       "    <tr style=\"text-align: right;\">\n",
       "      <th></th>\n",
       "      <th>count</th>\n",
       "      <th>mean</th>\n",
       "      <th>std</th>\n",
       "      <th>min</th>\n",
       "      <th>25%</th>\n",
       "      <th>50%</th>\n",
       "      <th>75%</th>\n",
       "      <th>max</th>\n",
       "    </tr>\n",
       "  </thead>\n",
       "  <tbody>\n",
       "    <tr>\n",
       "      <th>Buyer/Spender</th>\n",
       "      <td>440.0</td>\n",
       "      <td>220.500000</td>\n",
       "      <td>127.161315</td>\n",
       "      <td>1.0</td>\n",
       "      <td>110.75</td>\n",
       "      <td>220.5</td>\n",
       "      <td>330.25</td>\n",
       "      <td>440.0</td>\n",
       "    </tr>\n",
       "    <tr>\n",
       "      <th>Fresh</th>\n",
       "      <td>440.0</td>\n",
       "      <td>12000.297727</td>\n",
       "      <td>12647.328865</td>\n",
       "      <td>3.0</td>\n",
       "      <td>3127.75</td>\n",
       "      <td>8504.0</td>\n",
       "      <td>16933.75</td>\n",
       "      <td>112151.0</td>\n",
       "    </tr>\n",
       "    <tr>\n",
       "      <th>Milk</th>\n",
       "      <td>440.0</td>\n",
       "      <td>5796.265909</td>\n",
       "      <td>7380.377175</td>\n",
       "      <td>55.0</td>\n",
       "      <td>1533.00</td>\n",
       "      <td>3627.0</td>\n",
       "      <td>7190.25</td>\n",
       "      <td>73498.0</td>\n",
       "    </tr>\n",
       "    <tr>\n",
       "      <th>Grocery</th>\n",
       "      <td>440.0</td>\n",
       "      <td>7951.277273</td>\n",
       "      <td>9503.162829</td>\n",
       "      <td>3.0</td>\n",
       "      <td>2153.00</td>\n",
       "      <td>4755.5</td>\n",
       "      <td>10655.75</td>\n",
       "      <td>92780.0</td>\n",
       "    </tr>\n",
       "    <tr>\n",
       "      <th>Frozen</th>\n",
       "      <td>440.0</td>\n",
       "      <td>3071.931818</td>\n",
       "      <td>4854.673333</td>\n",
       "      <td>25.0</td>\n",
       "      <td>742.25</td>\n",
       "      <td>1526.0</td>\n",
       "      <td>3554.25</td>\n",
       "      <td>60869.0</td>\n",
       "    </tr>\n",
       "    <tr>\n",
       "      <th>Detergents_Paper</th>\n",
       "      <td>440.0</td>\n",
       "      <td>2881.493182</td>\n",
       "      <td>4767.854448</td>\n",
       "      <td>3.0</td>\n",
       "      <td>256.75</td>\n",
       "      <td>816.5</td>\n",
       "      <td>3922.00</td>\n",
       "      <td>40827.0</td>\n",
       "    </tr>\n",
       "    <tr>\n",
       "      <th>Delicatessen</th>\n",
       "      <td>440.0</td>\n",
       "      <td>1524.870455</td>\n",
       "      <td>2820.105937</td>\n",
       "      <td>3.0</td>\n",
       "      <td>408.25</td>\n",
       "      <td>965.5</td>\n",
       "      <td>1820.25</td>\n",
       "      <td>47943.0</td>\n",
       "    </tr>\n",
       "  </tbody>\n",
       "</table>\n",
       "</div>"
      ],
      "text/plain": [
       "                  count          mean           std   min      25%     50%  \\\n",
       "Buyer/Spender     440.0    220.500000    127.161315   1.0   110.75   220.5   \n",
       "Fresh             440.0  12000.297727  12647.328865   3.0  3127.75  8504.0   \n",
       "Milk              440.0   5796.265909   7380.377175  55.0  1533.00  3627.0   \n",
       "Grocery           440.0   7951.277273   9503.162829   3.0  2153.00  4755.5   \n",
       "Frozen            440.0   3071.931818   4854.673333  25.0   742.25  1526.0   \n",
       "Detergents_Paper  440.0   2881.493182   4767.854448   3.0   256.75   816.5   \n",
       "Delicatessen      440.0   1524.870455   2820.105937   3.0   408.25   965.5   \n",
       "\n",
       "                       75%       max  \n",
       "Buyer/Spender       330.25     440.0  \n",
       "Fresh             16933.75  112151.0  \n",
       "Milk               7190.25   73498.0  \n",
       "Grocery           10655.75   92780.0  \n",
       "Frozen             3554.25   60869.0  \n",
       "Detergents_Paper   3922.00   40827.0  \n",
       "Delicatessen       1820.25   47943.0  "
      ]
     },
     "execution_count": 77,
     "metadata": {},
     "output_type": "execute_result"
    }
   ],
   "source": [
    "df.describe().T"
   ]
  },
  {
   "cell_type": "code",
   "execution_count": 78,
   "id": "d77f9cf3",
   "metadata": {},
   "outputs": [
    {
     "name": "stdout",
     "output_type": "stream",
     "text": [
      "no. of rows:  440 \n",
      "no. of columns:  9\n"
     ]
    }
   ],
   "source": [
    "print(\"no. of rows: \",df.shape[0], \"\\n\"\"no. of columns: \",df.shape[1])"
   ]
  },
  {
   "cell_type": "code",
   "execution_count": 79,
   "id": "9558bf34",
   "metadata": {},
   "outputs": [],
   "source": [
    "#Checking Null values if any"
   ]
  },
  {
   "cell_type": "code",
   "execution_count": 80,
   "id": "7be1c907",
   "metadata": {},
   "outputs": [
    {
     "data": {
      "text/plain": [
       "Buyer/Spender       0\n",
       "Channel             0\n",
       "Region              0\n",
       "Fresh               0\n",
       "Milk                0\n",
       "Grocery             0\n",
       "Frozen              0\n",
       "Detergents_Paper    0\n",
       "Delicatessen        0\n",
       "dtype: int64"
      ]
     },
     "execution_count": 80,
     "metadata": {},
     "output_type": "execute_result"
    }
   ],
   "source": [
    "df.isnull().sum()"
   ]
  },
  {
   "cell_type": "code",
   "execution_count": 81,
   "id": "43ec8c02",
   "metadata": {},
   "outputs": [],
   "source": [
    "#checking count of unique values in each fields."
   ]
  },
  {
   "cell_type": "code",
   "execution_count": 82,
   "id": "7ecb8c00",
   "metadata": {},
   "outputs": [
    {
     "data": {
      "text/plain": [
       "Buyer/Spender       440\n",
       "Channel               2\n",
       "Region                3\n",
       "Fresh               433\n",
       "Milk                421\n",
       "Grocery             430\n",
       "Frozen              426\n",
       "Detergents_Paper    417\n",
       "Delicatessen        403\n",
       "dtype: int64"
      ]
     },
     "execution_count": 82,
     "metadata": {},
     "output_type": "execute_result"
    }
   ],
   "source": [
    "df.nunique()"
   ]
  },
  {
   "cell_type": "code",
   "execution_count": 83,
   "id": "5460e7e2",
   "metadata": {},
   "outputs": [],
   "source": [
    "#Checking for duplicate values"
   ]
  },
  {
   "cell_type": "code",
   "execution_count": 84,
   "id": "44617e68",
   "metadata": {},
   "outputs": [
    {
     "name": "stdout",
     "output_type": "stream",
     "text": [
      "No of duplicate rows = 0\n"
     ]
    },
    {
     "data": {
      "text/html": [
       "<div>\n",
       "<style scoped>\n",
       "    .dataframe tbody tr th:only-of-type {\n",
       "        vertical-align: middle;\n",
       "    }\n",
       "\n",
       "    .dataframe tbody tr th {\n",
       "        vertical-align: top;\n",
       "    }\n",
       "\n",
       "    .dataframe thead th {\n",
       "        text-align: right;\n",
       "    }\n",
       "</style>\n",
       "<table border=\"1\" class=\"dataframe\">\n",
       "  <thead>\n",
       "    <tr style=\"text-align: right;\">\n",
       "      <th></th>\n",
       "      <th>Buyer/Spender</th>\n",
       "      <th>Channel</th>\n",
       "      <th>Region</th>\n",
       "      <th>Fresh</th>\n",
       "      <th>Milk</th>\n",
       "      <th>Grocery</th>\n",
       "      <th>Frozen</th>\n",
       "      <th>Detergents_Paper</th>\n",
       "      <th>Delicatessen</th>\n",
       "    </tr>\n",
       "  </thead>\n",
       "  <tbody>\n",
       "  </tbody>\n",
       "</table>\n",
       "</div>"
      ],
      "text/plain": [
       "Empty DataFrame\n",
       "Columns: [Buyer/Spender, Channel, Region, Fresh, Milk, Grocery, Frozen, Detergents_Paper, Delicatessen]\n",
       "Index: []"
      ]
     },
     "execution_count": 84,
     "metadata": {},
     "output_type": "execute_result"
    }
   ],
   "source": [
    "dups = df.duplicated()\n",
    "print('No of duplicate rows = %d' % (dups.sum()))\n",
    "df[dups]"
   ]
  },
  {
   "cell_type": "code",
   "execution_count": 85,
   "id": "f8522a0b",
   "metadata": {},
   "outputs": [
    {
     "data": {
      "text/plain": [
       "Index(['Buyer/Spender', 'Channel', 'Region', 'Fresh', 'Milk', 'Grocery',\n",
       "       'Frozen', 'Detergents_Paper', 'Delicatessen'],\n",
       "      dtype='object')"
      ]
     },
     "execution_count": 85,
     "metadata": {},
     "output_type": "execute_result"
    }
   ],
   "source": [
    "df.columns"
   ]
  },
  {
   "cell_type": "code",
   "execution_count": 86,
   "id": "fd52432e",
   "metadata": {},
   "outputs": [
    {
     "data": {
      "text/plain": [
       "array(['Retail', 'Hotel'], dtype=object)"
      ]
     },
     "execution_count": 86,
     "metadata": {},
     "output_type": "execute_result"
    }
   ],
   "source": [
    "df['Channel'].unique()"
   ]
  },
  {
   "cell_type": "code",
   "execution_count": 87,
   "id": "345455c8",
   "metadata": {},
   "outputs": [
    {
     "data": {
      "text/plain": [
       "array(['Other', 'Lisbon', 'Oporto'], dtype=object)"
      ]
     },
     "execution_count": 87,
     "metadata": {},
     "output_type": "execute_result"
    }
   ],
   "source": [
    "df['Region'].unique()"
   ]
  },
  {
   "cell_type": "code",
   "execution_count": 88,
   "id": "4c8f7adf",
   "metadata": {},
   "outputs": [
    {
     "data": {
      "text/plain": [
       "Index(['Buyer/Spender', 'Channel', 'Region', 'Fresh', 'Milk', 'Grocery',\n",
       "       'Frozen', 'Detergents_Paper', 'Delicatessen'],\n",
       "      dtype='object')"
      ]
     },
     "execution_count": 88,
     "metadata": {},
     "output_type": "execute_result"
    }
   ],
   "source": [
    "df.columns"
   ]
  },
  {
   "cell_type": "code",
   "execution_count": 89,
   "id": "6bb5cf16",
   "metadata": {},
   "outputs": [
    {
     "data": {
      "text/plain": [
       "array([ 1338,  1776,  7844,  1788,  5185,  1451,   545,  2566,   750,\n",
       "        2098,  1744,   497,  2931,   602,  2168,   412,  1080,  4478,\n",
       "        3181,   501,  2124,   569,  4334, 16523,  5778,    57,   833,\n",
       "         518,  5206,   823,  2963,   985,   405,  1083,   395,   436,\n",
       "        4626,   714,   433,  2916,  5864,  2802,    46,    72,    65,\n",
       "        4985,  1452,  6465,  1476,  1163,  2162,   301,  1278,   224,\n",
       "        1333,  1130,  1340,  1282,  1603,   225,  2017,   964,  1295,\n",
       "        1145,  1423,    27,   834,  3095,   144,  1365, 14472,   181,\n",
       "         648,  1780,   975,   894,  1009,   167,  1653,   529,   156,\n",
       "        2342,   772,   120,  2944,   903, 14351,  3178,   360,  1117,\n",
       "        5130,  2698,   244,   709,   217,    63,   132,   323,  3029,\n",
       "        1838,  1386,  2498,   548,  1378,  1831,  1438,  1236,     3,\n",
       "        1647,  1519,  2708,  1561,  1266,   610,   222,  1160,   933,\n",
       "         635,  1136,   255,   860,   143,  1621,   918,   483,  2749,\n",
       "        1819,   911,   310,   328,   396,   537,   326,  1542,    36,\n",
       "        3271,   929,  2616,  1450,   318,   201,  4430,   520,   526,\n",
       "         434,  1440,  1067,  1774,   184,  1627,     8,  2153,  3182,\n",
       "         418,  1682,   303,  2157,  2233,   446,   238,  2379,  3637,\n",
       "         693,   429,  6250,   707,   716,  1442,  1697,   230,  2631,\n",
       "        2165,  2794,  8550, 47943,    11,   247,   727,   404,  1856,\n",
       "          64,    84,   409,   666,  1142,  1755,  2876,  1468,   697,\n",
       "         347,   731,  1681,  6854,    18,  1328,   710,   285,   806,\n",
       "         797,  2100,  2870,  1775,  1215,   791,  2388,   674,  1158,\n",
       "        6372,   130,   749,   239,   375,  1360,   659,   786,  1553,\n",
       "         689,   203,   980,  2137,   490,     7,  2563,   295,   216,\n",
       "        2253,  2564,  1047,   578,  2398,  1970,  2784,   572,   291,\n",
       "        5121,  1693,  1391,  3265,   615,   373,   987,  3321,   818,\n",
       "         287,   655,   411,  1265,  3636,  3628,   698,   204,    56,\n",
       "        1550,  1040,  1824,  1153,   379,  2503,   139,  1409,  1721,\n",
       "        1104,  2079,  1404,  1384,  2406,   128,  1027,   258,    22,\n",
       "        1522,   686,  1060,   741,  1854,   254,   898,   531,  1037,\n",
       "         259,  2005,   172,   555,    59,  2410,   211,  1543,   925,\n",
       "         656,   117,   142,   297,  1233,  3508,  1059,  1637,    51,\n",
       "        1625,  1113,   229,   573,  1092,  5609,   522,  1534,   739,\n",
       "        1043,  1102,  2602,  3486,  2139,   778,   868,   550,  1942,\n",
       "        1371,  2158,    37,  1115,  1022,   665,   445,   995,  3137,\n",
       "         195,  1111,  2341,   127,   110,  4100,   776,   503,   712,\n",
       "         314,   468,  3105,   447,   342,   558,   296,  2235,   790,\n",
       "        4829,  3113,    70,  1426,  1242,  1114,   179,   270,   532,\n",
       "        2893,   361,  5120,  1068,   967,   961,   406,   684,  1000,\n",
       "        1827,   654,   819,   452,   290,  2213,   743,  1014,  1902,\n",
       "         340,   288,   715,   378,   960,   553,   344,  5137,  1892,\n",
       "        4365,    62,  2435,  1874,   993,  1063,  1521,  1393,  1784,\n",
       "        1218,   668,   249,  1886,  1894,   317,  2501,  2080,  1498,\n",
       "        1449,   838,  2204,  2346,  1867,  2125,    52], dtype=int64)"
      ]
     },
     "execution_count": 89,
     "metadata": {},
     "output_type": "execute_result"
    }
   ],
   "source": [
    "df['Delicatessen'].unique()"
   ]
  },
  {
   "cell_type": "markdown",
   "id": "83a3a1fa",
   "metadata": {},
   "source": [
    "# 1.1.2 Which Region and which Channel spent the most? \n",
    "# 1.1.3 Which Region and which Channel spent the least?"
   ]
  },
  {
   "cell_type": "code",
   "execution_count": 90,
   "id": "4569e953",
   "metadata": {},
   "outputs": [
    {
     "name": "stdout",
     "output_type": "stream",
     "text": [
      "Channel  Region\n",
      "Hotel    Lisbon     59\n",
      "         Oporto     28\n",
      "         Other     211\n",
      "Retail   Lisbon     18\n",
      "         Oporto     19\n",
      "         Other     105\n",
      "Name: Buyer/Spender, dtype: int64\n"
     ]
    },
    {
     "data": {
      "text/plain": [
       "Text(0, 0.5, 'Buyer/Spender')"
      ]
     },
     "execution_count": 90,
     "metadata": {},
     "output_type": "execute_result"
    },
    {
     "data": {
      "image/png": "[encoded data removed]",
      "text/plain": [
       "<Figure size 700x200 with 1 Axes>"
      ]
     },
     "metadata": {},
     "output_type": "display_data"
    }
   ],
   "source": [
    "df_grouped = df.groupby([\"Channel\",'Region'])[\"Buyer/Spender\"].count()\n",
    "print(df_grouped)\n",
    "df_grouped.plot(kind=\"bar\", figsize=(7,2))\n",
    "plt.ylabel('Buyer/Spender')"
   ]
  },
  {
   "cell_type": "code",
   "execution_count": 91,
   "id": "14cdf6c3",
   "metadata": {},
   "outputs": [
    {
     "name": "stdout",
     "output_type": "stream",
     "text": [
      "Channel\n",
      "Hotel     298\n",
      "Retail    142\n",
      "Name: Buyer/Spender, dtype: int64\n"
     ]
    },
    {
     "data": {
      "text/plain": [
       "Text(0, 0.5, 'Buyer/Spender')"
      ]
     },
     "execution_count": 91,
     "metadata": {},
     "output_type": "execute_result"
    },
    {
     "data": {
      "image/png": "[encoded data removed]",
      "text/plain": [
       "<Figure size 700x200 with 1 Axes>"
      ]
     },
     "metadata": {},
     "output_type": "display_data"
    }
   ],
   "source": [
    "df_grouped1 = df.groupby([\"Channel\"])[\"Buyer/Spender\"].count()\n",
    "print(df_grouped1)\n",
    "df_grouped1.plot(kind=\"pie\", figsize=(7,2))\n",
    "plt.ylabel('Buyer/Spender')"
   ]
  },
  {
   "cell_type": "code",
   "execution_count": 92,
   "id": "00e94a40",
   "metadata": {},
   "outputs": [
    {
     "name": "stdout",
     "output_type": "stream",
     "text": [
      "Region\n",
      "Lisbon     77\n",
      "Oporto     47\n",
      "Other     316\n",
      "Name: Buyer/Spender, dtype: int64\n"
     ]
    },
    {
     "data": {
      "text/plain": [
       "Text(0, 0.5, 'Buyer/Spender')"
      ]
     },
     "execution_count": 92,
     "metadata": {},
     "output_type": "execute_result"
    },
    {
     "data": {
      "image/png": "[encoded data removed]",
      "text/plain": [
       "<Figure size 700x200 with 1 Axes>"
      ]
     },
     "metadata": {},
     "output_type": "display_data"
    }
   ],
   "source": [
    "df_grouped2 = df.groupby(['Region'])[\"Buyer/Spender\"].count()\n",
    "print(df_grouped2)\n",
    "df_grouped2.plot(kind=\"pie\", figsize=(7,2))\n",
    "plt.ylabel('Buyer/Spender')"
   ]
  },
  {
   "cell_type": "markdown",
   "id": "6e58c7c2",
   "metadata": {},
   "source": [
    "# 1.2 There are 6 different varieties of items that are considered. Describe and comment/explain all the varieties across Region and Channel? Provide a detailed justification for your answer."
   ]
  },
  {
   "cell_type": "code",
   "execution_count": 93,
   "id": "4b236369",
   "metadata": {},
   "outputs": [
    {
     "name": "stdout",
     "output_type": "stream",
     "text": [
      "<class 'pandas.core.frame.DataFrame'>\n",
      "RangeIndex: 440 entries, 0 to 439\n",
      "Data columns (total 9 columns):\n",
      " #   Column            Non-Null Count  Dtype \n",
      "---  ------            --------------  ----- \n",
      " 0   Buyer/Spender     440 non-null    int64 \n",
      " 1   Channel           440 non-null    object\n",
      " 2   Region            440 non-null    object\n",
      " 3   Fresh             440 non-null    int64 \n",
      " 4   Milk              440 non-null    int64 \n",
      " 5   Grocery           440 non-null    int64 \n",
      " 6   Frozen            440 non-null    int64 \n",
      " 7   Detergents_Paper  440 non-null    int64 \n",
      " 8   Delicatessen      440 non-null    int64 \n",
      "dtypes: int64(7), object(2)\n",
      "memory usage: 31.1+ KB\n"
     ]
    }
   ],
   "source": [
    "df.info()"
   ]
  },
  {
   "cell_type": "code",
   "execution_count": 94,
   "id": "141a001d",
   "metadata": {},
   "outputs": [],
   "source": [
    "Retail = df[df['Channel']=='Retail']"
   ]
  },
  {
   "cell_type": "code",
   "execution_count": 95,
   "id": "fcbd0a8b",
   "metadata": {},
   "outputs": [],
   "source": [
    "Hotel = df[df['Channel']== 'Hotel']"
   ]
  },
  {
   "cell_type": "code",
   "execution_count": 96,
   "id": "83d15307",
   "metadata": {},
   "outputs": [],
   "source": [
    "Lisbon = df[df['Region']== 'Lisbon']"
   ]
  },
  {
   "cell_type": "code",
   "execution_count": 97,
   "id": "496d2a8e",
   "metadata": {},
   "outputs": [],
   "source": [
    "Oporto = df[df['Region']== 'Oporto']"
   ]
  },
  {
   "cell_type": "code",
   "execution_count": 98,
   "id": "663fa1f8",
   "metadata": {},
   "outputs": [],
   "source": [
    "Other = df[df['Region']== 'Other']"
   ]
  },
  {
   "cell_type": "code",
   "execution_count": 150,
   "id": "0d45b964",
   "metadata": {},
   "outputs": [
    {
     "data": {
      "text/html": [
       "<div>\n",
       "<style scoped>\n",
       "    .dataframe tbody tr th:only-of-type {\n",
       "        vertical-align: middle;\n",
       "    }\n",
       "\n",
       "    .dataframe tbody tr th {\n",
       "        vertical-align: top;\n",
       "    }\n",
       "\n",
       "    .dataframe thead th {\n",
       "        text-align: right;\n",
       "    }\n",
       "</style>\n",
       "<table border=\"1\" class=\"dataframe\">\n",
       "  <thead>\n",
       "    <tr style=\"text-align: right;\">\n",
       "      <th></th>\n",
       "      <th>count</th>\n",
       "      <th>mean</th>\n",
       "      <th>std</th>\n",
       "      <th>min</th>\n",
       "      <th>25%</th>\n",
       "      <th>50%</th>\n",
       "      <th>75%</th>\n",
       "      <th>max</th>\n",
       "    </tr>\n",
       "  </thead>\n",
       "  <tbody>\n",
       "    <tr>\n",
       "      <th>Buyer/Spender</th>\n",
       "      <td>142.0</td>\n",
       "      <td>183.000000</td>\n",
       "      <td>132.136132</td>\n",
       "      <td>1.0</td>\n",
       "      <td>61.25</td>\n",
       "      <td>166.5</td>\n",
       "      <td>303.75</td>\n",
       "      <td>438.0</td>\n",
       "    </tr>\n",
       "    <tr>\n",
       "      <th>Fresh</th>\n",
       "      <td>142.0</td>\n",
       "      <td>8904.323944</td>\n",
       "      <td>8987.714750</td>\n",
       "      <td>18.0</td>\n",
       "      <td>2347.75</td>\n",
       "      <td>5993.5</td>\n",
       "      <td>12229.75</td>\n",
       "      <td>44466.0</td>\n",
       "    </tr>\n",
       "    <tr>\n",
       "      <th>Milk</th>\n",
       "      <td>142.0</td>\n",
       "      <td>10716.500000</td>\n",
       "      <td>9679.631351</td>\n",
       "      <td>928.0</td>\n",
       "      <td>5938.00</td>\n",
       "      <td>7812.0</td>\n",
       "      <td>12162.75</td>\n",
       "      <td>73498.0</td>\n",
       "    </tr>\n",
       "    <tr>\n",
       "      <th>Grocery</th>\n",
       "      <td>142.0</td>\n",
       "      <td>16322.852113</td>\n",
       "      <td>12267.318094</td>\n",
       "      <td>2743.0</td>\n",
       "      <td>9245.25</td>\n",
       "      <td>12390.0</td>\n",
       "      <td>20183.50</td>\n",
       "      <td>92780.0</td>\n",
       "    </tr>\n",
       "    <tr>\n",
       "      <th>Frozen</th>\n",
       "      <td>142.0</td>\n",
       "      <td>1652.612676</td>\n",
       "      <td>1812.803662</td>\n",
       "      <td>33.0</td>\n",
       "      <td>534.25</td>\n",
       "      <td>1081.0</td>\n",
       "      <td>2146.75</td>\n",
       "      <td>11559.0</td>\n",
       "    </tr>\n",
       "    <tr>\n",
       "      <th>Detergents_Paper</th>\n",
       "      <td>142.0</td>\n",
       "      <td>7269.507042</td>\n",
       "      <td>6291.089697</td>\n",
       "      <td>332.0</td>\n",
       "      <td>3683.50</td>\n",
       "      <td>5614.5</td>\n",
       "      <td>8662.50</td>\n",
       "      <td>40827.0</td>\n",
       "    </tr>\n",
       "    <tr>\n",
       "      <th>Delicatessen</th>\n",
       "      <td>142.0</td>\n",
       "      <td>1753.436620</td>\n",
       "      <td>1953.797047</td>\n",
       "      <td>3.0</td>\n",
       "      <td>566.75</td>\n",
       "      <td>1350.0</td>\n",
       "      <td>2156.00</td>\n",
       "      <td>16523.0</td>\n",
       "    </tr>\n",
       "  </tbody>\n",
       "</table>\n",
       "</div>"
      ],
      "text/plain": [
       "                  count          mean           std     min      25%      50%  \\\n",
       "Buyer/Spender     142.0    183.000000    132.136132     1.0    61.25    166.5   \n",
       "Fresh             142.0   8904.323944   8987.714750    18.0  2347.75   5993.5   \n",
       "Milk              142.0  10716.500000   9679.631351   928.0  5938.00   7812.0   \n",
       "Grocery           142.0  16322.852113  12267.318094  2743.0  9245.25  12390.0   \n",
       "Frozen            142.0   1652.612676   1812.803662    33.0   534.25   1081.0   \n",
       "Detergents_Paper  142.0   7269.507042   6291.089697   332.0  3683.50   5614.5   \n",
       "Delicatessen      142.0   1753.436620   1953.797047     3.0   566.75   1350.0   \n",
       "\n",
       "                       75%      max  \n",
       "Buyer/Spender       303.75    438.0  \n",
       "Fresh             12229.75  44466.0  \n",
       "Milk              12162.75  73498.0  \n",
       "Grocery           20183.50  92780.0  \n",
       "Frozen             2146.75  11559.0  \n",
       "Detergents_Paper   8662.50  40827.0  \n",
       "Delicatessen       2156.00  16523.0  "
      ]
     },
     "execution_count": 150,
     "metadata": {},
     "output_type": "execute_result"
    }
   ],
   "source": [
    "Retail.describe().T"
   ]
  },
  {
   "cell_type": "code",
   "execution_count": 141,
   "id": "3df4f04a",
   "metadata": {},
   "outputs": [
    {
     "data": {
      "text/plain": [
       "Buyer/Spender       0.281986\n",
       "Fresh               1.593948\n",
       "Milk                3.413169\n",
       "Grocery             2.980945\n",
       "Frozen              2.526896\n",
       "Detergents_Paper    2.612425\n",
       "Delicatessen        3.772841\n",
       "dtype: float64"
      ]
     },
     "execution_count": 141,
     "metadata": {},
     "output_type": "execute_result"
    }
   ],
   "source": [
    "Retail.skew()"
   ]
  },
  {
   "cell_type": "code",
   "execution_count": 176,
   "id": "5e8d2380",
   "metadata": {},
   "outputs": [
    {
     "data": {
      "text/plain": [
       "<AxesSubplot:>"
      ]
     },
     "execution_count": 176,
     "metadata": {},
     "output_type": "execute_result"
    },
    {
     "data": {
      "image/png": "[encoded data removed]",
      "text/plain": [
       "<Figure size 640x480 with 1 Axes>"
      ]
     },
     "metadata": {},
     "output_type": "display_data"
    }
   ],
   "source": [
    "Retail.plot()"
   ]
  },
  {
   "cell_type": "code",
   "execution_count": 100,
   "id": "acc77391",
   "metadata": {},
   "outputs": [
    {
     "data": {
      "text/html": [
       "<div>\n",
       "<style scoped>\n",
       "    .dataframe tbody tr th:only-of-type {\n",
       "        vertical-align: middle;\n",
       "    }\n",
       "\n",
       "    .dataframe tbody tr th {\n",
       "        vertical-align: top;\n",
       "    }\n",
       "\n",
       "    .dataframe thead th {\n",
       "        text-align: right;\n",
       "    }\n",
       "</style>\n",
       "<table border=\"1\" class=\"dataframe\">\n",
       "  <thead>\n",
       "    <tr style=\"text-align: right;\">\n",
       "      <th></th>\n",
       "      <th>count</th>\n",
       "      <th>mean</th>\n",
       "      <th>std</th>\n",
       "      <th>min</th>\n",
       "      <th>25%</th>\n",
       "      <th>50%</th>\n",
       "      <th>75%</th>\n",
       "      <th>max</th>\n",
       "    </tr>\n",
       "  </thead>\n",
       "  <tbody>\n",
       "    <tr>\n",
       "      <th>Buyer/Spender</th>\n",
       "      <td>298.0</td>\n",
       "      <td>238.369128</td>\n",
       "      <td>120.910343</td>\n",
       "      <td>4.0</td>\n",
       "      <td>137.25</td>\n",
       "      <td>241.5</td>\n",
       "      <td>344.50</td>\n",
       "      <td>440.0</td>\n",
       "    </tr>\n",
       "    <tr>\n",
       "      <th>Fresh</th>\n",
       "      <td>298.0</td>\n",
       "      <td>13475.560403</td>\n",
       "      <td>13831.687502</td>\n",
       "      <td>3.0</td>\n",
       "      <td>4070.25</td>\n",
       "      <td>9581.5</td>\n",
       "      <td>18274.75</td>\n",
       "      <td>112151.0</td>\n",
       "    </tr>\n",
       "    <tr>\n",
       "      <th>Milk</th>\n",
       "      <td>298.0</td>\n",
       "      <td>3451.724832</td>\n",
       "      <td>4352.165571</td>\n",
       "      <td>55.0</td>\n",
       "      <td>1164.50</td>\n",
       "      <td>2157.0</td>\n",
       "      <td>4029.50</td>\n",
       "      <td>43950.0</td>\n",
       "    </tr>\n",
       "    <tr>\n",
       "      <th>Grocery</th>\n",
       "      <td>298.0</td>\n",
       "      <td>3962.137584</td>\n",
       "      <td>3545.513391</td>\n",
       "      <td>3.0</td>\n",
       "      <td>1703.75</td>\n",
       "      <td>2684.0</td>\n",
       "      <td>5076.75</td>\n",
       "      <td>21042.0</td>\n",
       "    </tr>\n",
       "    <tr>\n",
       "      <th>Frozen</th>\n",
       "      <td>298.0</td>\n",
       "      <td>3748.251678</td>\n",
       "      <td>5643.912500</td>\n",
       "      <td>25.0</td>\n",
       "      <td>830.00</td>\n",
       "      <td>2057.5</td>\n",
       "      <td>4558.75</td>\n",
       "      <td>60869.0</td>\n",
       "    </tr>\n",
       "    <tr>\n",
       "      <th>Detergents_Paper</th>\n",
       "      <td>298.0</td>\n",
       "      <td>790.560403</td>\n",
       "      <td>1104.093673</td>\n",
       "      <td>3.0</td>\n",
       "      <td>183.25</td>\n",
       "      <td>385.5</td>\n",
       "      <td>899.50</td>\n",
       "      <td>6907.0</td>\n",
       "    </tr>\n",
       "    <tr>\n",
       "      <th>Delicatessen</th>\n",
       "      <td>298.0</td>\n",
       "      <td>1415.956376</td>\n",
       "      <td>3147.426922</td>\n",
       "      <td>3.0</td>\n",
       "      <td>379.00</td>\n",
       "      <td>821.0</td>\n",
       "      <td>1548.00</td>\n",
       "      <td>47943.0</td>\n",
       "    </tr>\n",
       "  </tbody>\n",
       "</table>\n",
       "</div>"
      ],
      "text/plain": [
       "                  count          mean           std   min      25%     50%  \\\n",
       "Buyer/Spender     298.0    238.369128    120.910343   4.0   137.25   241.5   \n",
       "Fresh             298.0  13475.560403  13831.687502   3.0  4070.25  9581.5   \n",
       "Milk              298.0   3451.724832   4352.165571  55.0  1164.50  2157.0   \n",
       "Grocery           298.0   3962.137584   3545.513391   3.0  1703.75  2684.0   \n",
       "Frozen            298.0   3748.251678   5643.912500  25.0   830.00  2057.5   \n",
       "Detergents_Paper  298.0    790.560403   1104.093673   3.0   183.25   385.5   \n",
       "Delicatessen      298.0   1415.956376   3147.426922   3.0   379.00   821.0   \n",
       "\n",
       "                       75%       max  \n",
       "Buyer/Spender       344.50     440.0  \n",
       "Fresh             18274.75  112151.0  \n",
       "Milk               4029.50   43950.0  \n",
       "Grocery            5076.75   21042.0  \n",
       "Frozen             4558.75   60869.0  \n",
       "Detergents_Paper    899.50    6907.0  \n",
       "Delicatessen       1548.00   47943.0  "
      ]
     },
     "execution_count": 100,
     "metadata": {},
     "output_type": "execute_result"
    }
   ],
   "source": [
    "Hotel.describe().T"
   ]
  },
  {
   "cell_type": "code",
   "execution_count": 145,
   "id": "17f57005",
   "metadata": {},
   "outputs": [
    {
     "data": {
      "text/plain": [
       "Buyer/Spender       -0.077573\n",
       "Fresh                2.512084\n",
       "Milk                 4.660186\n",
       "Grocery              2.118316\n",
       "Frozen               5.211448\n",
       "Detergents_Paper     2.857124\n",
       "Delicatessen        11.521808\n",
       "dtype: float64"
      ]
     },
     "execution_count": 145,
     "metadata": {},
     "output_type": "execute_result"
    }
   ],
   "source": [
    "Hotel.skew()"
   ]
  },
  {
   "cell_type": "code",
   "execution_count": 156,
   "id": "d45bf11c",
   "metadata": {},
   "outputs": [
    {
     "data": {
      "text/html": [
       "<div>\n",
       "<style scoped>\n",
       "    .dataframe tbody tr th:only-of-type {\n",
       "        vertical-align: middle;\n",
       "    }\n",
       "\n",
       "    .dataframe tbody tr th {\n",
       "        vertical-align: top;\n",
       "    }\n",
       "\n",
       "    .dataframe thead th {\n",
       "        text-align: right;\n",
       "    }\n",
       "</style>\n",
       "<table border=\"1\" class=\"dataframe\">\n",
       "  <thead>\n",
       "    <tr style=\"text-align: right;\">\n",
       "      <th></th>\n",
       "      <th>count</th>\n",
       "      <th>mean</th>\n",
       "      <th>std</th>\n",
       "      <th>min</th>\n",
       "      <th>25%</th>\n",
       "      <th>50%</th>\n",
       "      <th>75%</th>\n",
       "      <th>max</th>\n",
       "    </tr>\n",
       "  </thead>\n",
       "  <tbody>\n",
       "    <tr>\n",
       "      <th>Buyer/Spender</th>\n",
       "      <td>77.0</td>\n",
       "      <td>235.000000</td>\n",
       "      <td>22.371857</td>\n",
       "      <td>197.0</td>\n",
       "      <td>216.0</td>\n",
       "      <td>235.0</td>\n",
       "      <td>254.0</td>\n",
       "      <td>273.0</td>\n",
       "    </tr>\n",
       "    <tr>\n",
       "      <th>Fresh</th>\n",
       "      <td>77.0</td>\n",
       "      <td>11101.727273</td>\n",
       "      <td>11557.438575</td>\n",
       "      <td>18.0</td>\n",
       "      <td>2806.0</td>\n",
       "      <td>7363.0</td>\n",
       "      <td>15218.0</td>\n",
       "      <td>56083.0</td>\n",
       "    </tr>\n",
       "    <tr>\n",
       "      <th>Milk</th>\n",
       "      <td>77.0</td>\n",
       "      <td>5486.415584</td>\n",
       "      <td>5704.856079</td>\n",
       "      <td>258.0</td>\n",
       "      <td>1372.0</td>\n",
       "      <td>3748.0</td>\n",
       "      <td>7503.0</td>\n",
       "      <td>28326.0</td>\n",
       "    </tr>\n",
       "    <tr>\n",
       "      <th>Grocery</th>\n",
       "      <td>77.0</td>\n",
       "      <td>7403.077922</td>\n",
       "      <td>8496.287728</td>\n",
       "      <td>489.0</td>\n",
       "      <td>2046.0</td>\n",
       "      <td>3838.0</td>\n",
       "      <td>9490.0</td>\n",
       "      <td>39694.0</td>\n",
       "    </tr>\n",
       "    <tr>\n",
       "      <th>Frozen</th>\n",
       "      <td>77.0</td>\n",
       "      <td>3000.337662</td>\n",
       "      <td>3092.143894</td>\n",
       "      <td>61.0</td>\n",
       "      <td>950.0</td>\n",
       "      <td>1801.0</td>\n",
       "      <td>4324.0</td>\n",
       "      <td>18711.0</td>\n",
       "    </tr>\n",
       "    <tr>\n",
       "      <th>Detergents_Paper</th>\n",
       "      <td>77.0</td>\n",
       "      <td>2651.116883</td>\n",
       "      <td>4208.462708</td>\n",
       "      <td>5.0</td>\n",
       "      <td>284.0</td>\n",
       "      <td>737.0</td>\n",
       "      <td>3593.0</td>\n",
       "      <td>19410.0</td>\n",
       "    </tr>\n",
       "    <tr>\n",
       "      <th>Delicatessen</th>\n",
       "      <td>77.0</td>\n",
       "      <td>1354.896104</td>\n",
       "      <td>1345.423340</td>\n",
       "      <td>7.0</td>\n",
       "      <td>548.0</td>\n",
       "      <td>806.0</td>\n",
       "      <td>1775.0</td>\n",
       "      <td>6854.0</td>\n",
       "    </tr>\n",
       "  </tbody>\n",
       "</table>\n",
       "</div>"
      ],
      "text/plain": [
       "                  count          mean           std    min     25%     50%  \\\n",
       "Buyer/Spender      77.0    235.000000     22.371857  197.0   216.0   235.0   \n",
       "Fresh              77.0  11101.727273  11557.438575   18.0  2806.0  7363.0   \n",
       "Milk               77.0   5486.415584   5704.856079  258.0  1372.0  3748.0   \n",
       "Grocery            77.0   7403.077922   8496.287728  489.0  2046.0  3838.0   \n",
       "Frozen             77.0   3000.337662   3092.143894   61.0   950.0  1801.0   \n",
       "Detergents_Paper   77.0   2651.116883   4208.462708    5.0   284.0   737.0   \n",
       "Delicatessen       77.0   1354.896104   1345.423340    7.0   548.0   806.0   \n",
       "\n",
       "                      75%      max  \n",
       "Buyer/Spender       254.0    273.0  \n",
       "Fresh             15218.0  56083.0  \n",
       "Milk               7503.0  28326.0  \n",
       "Grocery            9490.0  39694.0  \n",
       "Frozen             4324.0  18711.0  \n",
       "Detergents_Paper   3593.0  19410.0  \n",
       "Delicatessen       1775.0   6854.0  "
      ]
     },
     "execution_count": 156,
     "metadata": {},
     "output_type": "execute_result"
    }
   ],
   "source": [
    "Lisbon.describe().T"
   ]
  },
  {
   "cell_type": "code",
   "execution_count": 157,
   "id": "6fa88b94",
   "metadata": {},
   "outputs": [
    {
     "data": {
      "text/plain": [
       "Buyer/Spender       0.000000\n",
       "Fresh               2.013077\n",
       "Milk                1.923527\n",
       "Grocery             2.023387\n",
       "Frozen              2.334571\n",
       "Detergents_Paper    2.359030\n",
       "Delicatessen        2.050233\n",
       "dtype: float64"
      ]
     },
     "execution_count": 157,
     "metadata": {},
     "output_type": "execute_result"
    }
   ],
   "source": [
    "Lisbon.skew()"
   ]
  },
  {
   "cell_type": "code",
   "execution_count": 102,
   "id": "bd2a9590",
   "metadata": {},
   "outputs": [
    {
     "data": {
      "text/html": [
       "<div>\n",
       "<style scoped>\n",
       "    .dataframe tbody tr th:only-of-type {\n",
       "        vertical-align: middle;\n",
       "    }\n",
       "\n",
       "    .dataframe tbody tr th {\n",
       "        vertical-align: top;\n",
       "    }\n",
       "\n",
       "    .dataframe thead th {\n",
       "        text-align: right;\n",
       "    }\n",
       "</style>\n",
       "<table border=\"1\" class=\"dataframe\">\n",
       "  <thead>\n",
       "    <tr style=\"text-align: right;\">\n",
       "      <th></th>\n",
       "      <th>count</th>\n",
       "      <th>mean</th>\n",
       "      <th>std</th>\n",
       "      <th>min</th>\n",
       "      <th>25%</th>\n",
       "      <th>50%</th>\n",
       "      <th>75%</th>\n",
       "      <th>max</th>\n",
       "    </tr>\n",
       "  </thead>\n",
       "  <tbody>\n",
       "    <tr>\n",
       "      <th>Buyer/Spender</th>\n",
       "      <td>47.0</td>\n",
       "      <td>317.000000</td>\n",
       "      <td>13.711309</td>\n",
       "      <td>294.0</td>\n",
       "      <td>305.5</td>\n",
       "      <td>317.0</td>\n",
       "      <td>328.5</td>\n",
       "      <td>340.0</td>\n",
       "    </tr>\n",
       "    <tr>\n",
       "      <th>Fresh</th>\n",
       "      <td>47.0</td>\n",
       "      <td>9887.680851</td>\n",
       "      <td>8387.899211</td>\n",
       "      <td>3.0</td>\n",
       "      <td>2751.5</td>\n",
       "      <td>8090.0</td>\n",
       "      <td>14925.5</td>\n",
       "      <td>32717.0</td>\n",
       "    </tr>\n",
       "    <tr>\n",
       "      <th>Milk</th>\n",
       "      <td>47.0</td>\n",
       "      <td>5088.170213</td>\n",
       "      <td>5826.343145</td>\n",
       "      <td>333.0</td>\n",
       "      <td>1430.5</td>\n",
       "      <td>2374.0</td>\n",
       "      <td>5772.5</td>\n",
       "      <td>25071.0</td>\n",
       "    </tr>\n",
       "    <tr>\n",
       "      <th>Grocery</th>\n",
       "      <td>47.0</td>\n",
       "      <td>9218.595745</td>\n",
       "      <td>10842.745314</td>\n",
       "      <td>1330.0</td>\n",
       "      <td>2792.5</td>\n",
       "      <td>6114.0</td>\n",
       "      <td>11758.5</td>\n",
       "      <td>67298.0</td>\n",
       "    </tr>\n",
       "    <tr>\n",
       "      <th>Frozen</th>\n",
       "      <td>47.0</td>\n",
       "      <td>4045.361702</td>\n",
       "      <td>9151.784954</td>\n",
       "      <td>131.0</td>\n",
       "      <td>811.5</td>\n",
       "      <td>1455.0</td>\n",
       "      <td>3272.0</td>\n",
       "      <td>60869.0</td>\n",
       "    </tr>\n",
       "    <tr>\n",
       "      <th>Detergents_Paper</th>\n",
       "      <td>47.0</td>\n",
       "      <td>3687.468085</td>\n",
       "      <td>6514.717668</td>\n",
       "      <td>15.0</td>\n",
       "      <td>282.5</td>\n",
       "      <td>811.0</td>\n",
       "      <td>4324.5</td>\n",
       "      <td>38102.0</td>\n",
       "    </tr>\n",
       "    <tr>\n",
       "      <th>Delicatessen</th>\n",
       "      <td>47.0</td>\n",
       "      <td>1159.702128</td>\n",
       "      <td>1050.739841</td>\n",
       "      <td>51.0</td>\n",
       "      <td>540.5</td>\n",
       "      <td>898.0</td>\n",
       "      <td>1538.5</td>\n",
       "      <td>5609.0</td>\n",
       "    </tr>\n",
       "  </tbody>\n",
       "</table>\n",
       "</div>"
      ],
      "text/plain": [
       "                  count         mean           std     min     25%     50%  \\\n",
       "Buyer/Spender      47.0   317.000000     13.711309   294.0   305.5   317.0   \n",
       "Fresh              47.0  9887.680851   8387.899211     3.0  2751.5  8090.0   \n",
       "Milk               47.0  5088.170213   5826.343145   333.0  1430.5  2374.0   \n",
       "Grocery            47.0  9218.595745  10842.745314  1330.0  2792.5  6114.0   \n",
       "Frozen             47.0  4045.361702   9151.784954   131.0   811.5  1455.0   \n",
       "Detergents_Paper   47.0  3687.468085   6514.717668    15.0   282.5   811.0   \n",
       "Delicatessen       47.0  1159.702128   1050.739841    51.0   540.5   898.0   \n",
       "\n",
       "                      75%      max  \n",
       "Buyer/Spender       328.5    340.0  \n",
       "Fresh             14925.5  32717.0  \n",
       "Milk               5772.5  25071.0  \n",
       "Grocery           11758.5  67298.0  \n",
       "Frozen             3272.0  60869.0  \n",
       "Detergents_Paper   4324.5  38102.0  \n",
       "Delicatessen       1538.5   5609.0  "
      ]
     },
     "execution_count": 102,
     "metadata": {},
     "output_type": "execute_result"
    }
   ],
   "source": [
    "Oporto.describe().T"
   ]
  },
  {
   "cell_type": "code",
   "execution_count": 158,
   "id": "b401d0c1",
   "metadata": {},
   "outputs": [
    {
     "data": {
      "text/plain": [
       "Buyer/Spender       0.000000\n",
       "Fresh               0.979873\n",
       "Milk                1.803677\n",
       "Grocery             3.637678\n",
       "Frozen              5.492402\n",
       "Detergents_Paper    3.620133\n",
       "Delicatessen        2.152210\n",
       "dtype: float64"
      ]
     },
     "execution_count": 158,
     "metadata": {},
     "output_type": "execute_result"
    }
   ],
   "source": [
    "Oporto.skew()"
   ]
  },
  {
   "cell_type": "code",
   "execution_count": 103,
   "id": "f155d0eb",
   "metadata": {},
   "outputs": [
    {
     "data": {
      "text/html": [
       "<div>\n",
       "<style scoped>\n",
       "    .dataframe tbody tr th:only-of-type {\n",
       "        vertical-align: middle;\n",
       "    }\n",
       "\n",
       "    .dataframe tbody tr th {\n",
       "        vertical-align: top;\n",
       "    }\n",
       "\n",
       "    .dataframe thead th {\n",
       "        text-align: right;\n",
       "    }\n",
       "</style>\n",
       "<table border=\"1\" class=\"dataframe\">\n",
       "  <thead>\n",
       "    <tr style=\"text-align: right;\">\n",
       "      <th></th>\n",
       "      <th>count</th>\n",
       "      <th>mean</th>\n",
       "      <th>std</th>\n",
       "      <th>min</th>\n",
       "      <th>25%</th>\n",
       "      <th>50%</th>\n",
       "      <th>75%</th>\n",
       "      <th>max</th>\n",
       "    </tr>\n",
       "  </thead>\n",
       "  <tbody>\n",
       "    <tr>\n",
       "      <th>Buyer/Spender</th>\n",
       "      <td>316.0</td>\n",
       "      <td>202.613924</td>\n",
       "      <td>143.615303</td>\n",
       "      <td>1.0</td>\n",
       "      <td>79.75</td>\n",
       "      <td>158.5</td>\n",
       "      <td>361.25</td>\n",
       "      <td>440.0</td>\n",
       "    </tr>\n",
       "    <tr>\n",
       "      <th>Fresh</th>\n",
       "      <td>316.0</td>\n",
       "      <td>12533.471519</td>\n",
       "      <td>13389.213115</td>\n",
       "      <td>3.0</td>\n",
       "      <td>3350.75</td>\n",
       "      <td>8752.5</td>\n",
       "      <td>17406.50</td>\n",
       "      <td>112151.0</td>\n",
       "    </tr>\n",
       "    <tr>\n",
       "      <th>Milk</th>\n",
       "      <td>316.0</td>\n",
       "      <td>5977.085443</td>\n",
       "      <td>7935.463443</td>\n",
       "      <td>55.0</td>\n",
       "      <td>1634.00</td>\n",
       "      <td>3684.5</td>\n",
       "      <td>7198.75</td>\n",
       "      <td>73498.0</td>\n",
       "    </tr>\n",
       "    <tr>\n",
       "      <th>Grocery</th>\n",
       "      <td>316.0</td>\n",
       "      <td>7896.363924</td>\n",
       "      <td>9537.287778</td>\n",
       "      <td>3.0</td>\n",
       "      <td>2141.50</td>\n",
       "      <td>4732.0</td>\n",
       "      <td>10559.75</td>\n",
       "      <td>92780.0</td>\n",
       "    </tr>\n",
       "    <tr>\n",
       "      <th>Frozen</th>\n",
       "      <td>316.0</td>\n",
       "      <td>2944.594937</td>\n",
       "      <td>4260.126243</td>\n",
       "      <td>25.0</td>\n",
       "      <td>664.75</td>\n",
       "      <td>1498.0</td>\n",
       "      <td>3354.75</td>\n",
       "      <td>36534.0</td>\n",
       "    </tr>\n",
       "    <tr>\n",
       "      <th>Detergents_Paper</th>\n",
       "      <td>316.0</td>\n",
       "      <td>2817.753165</td>\n",
       "      <td>4593.051613</td>\n",
       "      <td>3.0</td>\n",
       "      <td>251.25</td>\n",
       "      <td>856.0</td>\n",
       "      <td>3875.75</td>\n",
       "      <td>40827.0</td>\n",
       "    </tr>\n",
       "    <tr>\n",
       "      <th>Delicatessen</th>\n",
       "      <td>316.0</td>\n",
       "      <td>1620.601266</td>\n",
       "      <td>3232.581660</td>\n",
       "      <td>3.0</td>\n",
       "      <td>402.00</td>\n",
       "      <td>994.0</td>\n",
       "      <td>1832.75</td>\n",
       "      <td>47943.0</td>\n",
       "    </tr>\n",
       "  </tbody>\n",
       "</table>\n",
       "</div>"
      ],
      "text/plain": [
       "                  count          mean           std   min      25%     50%  \\\n",
       "Buyer/Spender     316.0    202.613924    143.615303   1.0    79.75   158.5   \n",
       "Fresh             316.0  12533.471519  13389.213115   3.0  3350.75  8752.5   \n",
       "Milk              316.0   5977.085443   7935.463443  55.0  1634.00  3684.5   \n",
       "Grocery           316.0   7896.363924   9537.287778   3.0  2141.50  4732.0   \n",
       "Frozen            316.0   2944.594937   4260.126243  25.0   664.75  1498.0   \n",
       "Detergents_Paper  316.0   2817.753165   4593.051613   3.0   251.25   856.0   \n",
       "Delicatessen      316.0   1620.601266   3232.581660   3.0   402.00   994.0   \n",
       "\n",
       "                       75%       max  \n",
       "Buyer/Spender       361.25     440.0  \n",
       "Fresh             17406.50  112151.0  \n",
       "Milk               7198.75   73498.0  \n",
       "Grocery           10559.75   92780.0  \n",
       "Frozen             3354.75   36534.0  \n",
       "Detergents_Paper   3875.75   40827.0  \n",
       "Delicatessen       1832.75   47943.0  "
      ]
     },
     "execution_count": 103,
     "metadata": {},
     "output_type": "execute_result"
    }
   ],
   "source": [
    "Other.describe().T"
   ]
  },
  {
   "cell_type": "code",
   "execution_count": 159,
   "id": "046d70ef",
   "metadata": {},
   "outputs": [
    {
     "data": {
      "text/plain": [
       "Buyer/Spender        0.327663\n",
       "Fresh                2.617896\n",
       "Milk                 4.250869\n",
       "Grocery              3.839176\n",
       "Frozen               3.963391\n",
       "Detergents_Paper     3.705302\n",
       "Delicatessen        10.214896\n",
       "dtype: float64"
      ]
     },
     "execution_count": 159,
     "metadata": {},
     "output_type": "execute_result"
    }
   ],
   "source": [
    "Other.skew()"
   ]
  },
  {
   "cell_type": "code",
   "execution_count": 192,
   "id": "bc2db185",
   "metadata": {},
   "outputs": [
    {
     "name": "stdout",
     "output_type": "stream",
     "text": [
      "                     Fresh        Milk     Frozen      Grocery  \\\n",
      "Channel Region                                                   \n",
      "Hotel   Lisbon   717380.25  218195.250  167540.75   237542.000   \n",
      "        Oporto   326215.00   63411.125   92852.50   123074.000   \n",
      "        Other   2701258.50  683347.625  612758.50   820101.000   \n",
      "Retail  Lisbon    93600.00  173082.375   45965.25   291474.375   \n",
      "        Oporto   138506.00  160251.250   25484.25   261519.625   \n",
      "        Other   1020370.25  923092.875  158516.50  1450294.000   \n",
      "\n",
      "                Detergents_Paper  Delicatessen  \n",
      "Channel Region                                  \n",
      "Hotel   Lisbon          56081.00      67716.25  \n",
      "        Oporto          13516.00      29294.25  \n",
      "        Other          165990.00     243386.25  \n",
      "Retail  Lisbon         116648.25      30078.50  \n",
      "        Oporto         117226.25      23541.00  \n",
      "        Other          583289.75     163338.50  \n"
     ]
    },
    {
     "data": {
      "text/plain": [
       "Text(0, 0.5, 'Items')"
      ]
     },
     "execution_count": 192,
     "metadata": {},
     "output_type": "execute_result"
    },
    {
     "data": {
      "image/png": "[encoded data removed]",
      "text/plain": [
       "<Figure size 700x400 with 1 Axes>"
      ]
     },
     "metadata": {},
     "output_type": "display_data"
    }
   ],
   "source": [
    "Fresh_items = df.groupby([\"Channel\",'Region'])[[\"Fresh\",'Milk','Frozen','Grocery','Detergents_Paper','Delicatessen']].sum()\n",
    "print(Fresh_items)\n",
    "Fresh_items.plot(kind=\"bar\", figsize=(7,4))\n",
    "plt.ylabel('Items')"
   ]
  },
  {
   "cell_type": "code",
   "execution_count": 104,
   "id": "dce40cd0",
   "metadata": {},
   "outputs": [],
   "source": [
    "# For Fresh Items"
   ]
  },
  {
   "cell_type": "code",
   "execution_count": 181,
   "id": "969dc201",
   "metadata": {},
   "outputs": [
    {
     "name": "stdout",
     "output_type": "stream",
     "text": [
      "Channel  Region\n",
      "Hotel    Lisbon     717380.25\n",
      "         Oporto     326215.00\n",
      "         Other     2701258.50\n",
      "Retail   Lisbon      93600.00\n",
      "         Oporto     138506.00\n",
      "         Other     1020370.25\n",
      "Name: Fresh, dtype: float64\n"
     ]
    },
    {
     "data": {
      "text/plain": [
       "Text(0, 0.5, 'Fresh')"
      ]
     },
     "execution_count": 181,
     "metadata": {},
     "output_type": "execute_result"
    },
    {
     "data": {
      "image/png": "[encoded data removed]",
      "text/plain": [
       "<Figure size 700x200 with 1 Axes>"
      ]
     },
     "metadata": {},
     "output_type": "display_data"
    }
   ],
   "source": [
    "Fresh_items = df.groupby([\"Channel\",'Region'])[\"Fresh\"].sum()\n",
    "print(Fresh_items)\n",
    "Fresh_items.plot(kind=\"bar\", figsize=(7,2))\n",
    "plt.ylabel('Fresh')"
   ]
  },
  {
   "cell_type": "code",
   "execution_count": 106,
   "id": "0395becc",
   "metadata": {},
   "outputs": [],
   "source": [
    "#For Milk"
   ]
  },
  {
   "cell_type": "code",
   "execution_count": 182,
   "id": "a6383b74",
   "metadata": {},
   "outputs": [
    {
     "name": "stdout",
     "output_type": "stream",
     "text": [
      "Channel  Region\n",
      "Hotel    Lisbon    218195.250\n",
      "         Oporto     63411.125\n",
      "         Other     683347.625\n",
      "Retail   Lisbon    173082.375\n",
      "         Oporto    160251.250\n",
      "         Other     923092.875\n",
      "Name: Milk, dtype: float64\n"
     ]
    },
    {
     "data": {
      "text/plain": [
       "Text(0, 0.5, 'Milk')"
      ]
     },
     "execution_count": 182,
     "metadata": {},
     "output_type": "execute_result"
    },
    {
     "data": {
      "image/png": "[encoded data removed]",
      "text/plain": [
       "<Figure size 700x200 with 1 Axes>"
      ]
     },
     "metadata": {},
     "output_type": "display_data"
    }
   ],
   "source": [
    "Milk_item = df.groupby([\"Channel\",'Region'])[\"Milk\"].sum()\n",
    "print(Milk_item)\n",
    "Milk_item.plot(kind=\"bar\", figsize=(7,2))\n",
    "plt.ylabel('Milk')"
   ]
  },
  {
   "cell_type": "code",
   "execution_count": 108,
   "id": "564f37b6",
   "metadata": {},
   "outputs": [],
   "source": [
    "#For Grocery"
   ]
  },
  {
   "cell_type": "code",
   "execution_count": 183,
   "id": "ef74ae98",
   "metadata": {},
   "outputs": [
    {
     "name": "stdout",
     "output_type": "stream",
     "text": [
      "Channel  Region\n",
      "Hotel    Lisbon     237542.000\n",
      "         Oporto     123074.000\n",
      "         Other      820101.000\n",
      "Retail   Lisbon     291474.375\n",
      "         Oporto     261519.625\n",
      "         Other     1450294.000\n",
      "Name: Grocery, dtype: float64\n"
     ]
    },
    {
     "data": {
      "text/plain": [
       "Text(0.5, 0, 'Grocery')"
      ]
     },
     "execution_count": 183,
     "metadata": {},
     "output_type": "execute_result"
    },
    {
     "data": {
      "image/png": "[encoded data removed]",
      "text/plain": [
       "<Figure size 700x200 with 1 Axes>"
      ]
     },
     "metadata": {},
     "output_type": "display_data"
    }
   ],
   "source": [
    "Grocery = df.groupby([\"Channel\",'Region'])[\"Grocery\"].sum()\n",
    "print(Grocery)\n",
    "Grocery.plot(kind ='barh',figsize=(7,2))\n",
    "plt.xlabel('Grocery')"
   ]
  },
  {
   "cell_type": "code",
   "execution_count": 110,
   "id": "aaf4a25c",
   "metadata": {},
   "outputs": [],
   "source": [
    "# For Frozen"
   ]
  },
  {
   "cell_type": "code",
   "execution_count": 184,
   "id": "fb6a003a",
   "metadata": {},
   "outputs": [
    {
     "name": "stdout",
     "output_type": "stream",
     "text": [
      "Channel  Region\n",
      "Hotel    Lisbon    167540.75\n",
      "         Oporto     92852.50\n",
      "         Other     612758.50\n",
      "Retail   Lisbon     45965.25\n",
      "         Oporto     25484.25\n",
      "         Other     158516.50\n",
      "Name: Frozen, dtype: float64\n"
     ]
    },
    {
     "data": {
      "text/plain": [
       "<AxesSubplot:ylabel='Frozen'>"
      ]
     },
     "execution_count": 184,
     "metadata": {},
     "output_type": "execute_result"
    },
    {
     "data": {
      "image/png": "[encoded data removed]",
      "text/plain": [
       "<Figure size 700x200 with 1 Axes>"
      ]
     },
     "metadata": {},
     "output_type": "display_data"
    }
   ],
   "source": [
    "Frozen_item = df.groupby([\"Channel\",'Region'])[\"Frozen\"].sum()\n",
    "print(Frozen_item)\n",
    "Frozen_item.plot(kind ='pie',figsize=(7,2))\n",
    "#plt.xlabel('Frozen')"
   ]
  },
  {
   "cell_type": "code",
   "execution_count": 112,
   "id": "193461f3",
   "metadata": {},
   "outputs": [],
   "source": [
    "# for Detergents_Paper"
   ]
  },
  {
   "cell_type": "code",
   "execution_count": 185,
   "id": "0ace6411",
   "metadata": {},
   "outputs": [
    {
     "name": "stdout",
     "output_type": "stream",
     "text": [
      "Channel  Region\n",
      "Hotel    Lisbon     56081.00\n",
      "         Oporto     13516.00\n",
      "         Other     165990.00\n",
      "Retail   Lisbon    116648.25\n",
      "         Oporto    117226.25\n",
      "         Other     583289.75\n",
      "Name: Detergents_Paper, dtype: float64\n"
     ]
    },
    {
     "data": {
      "text/plain": [
       "Text(0.5, 0, 'Detergents_Paper')"
      ]
     },
     "execution_count": 185,
     "metadata": {},
     "output_type": "execute_result"
    },
    {
     "data": {
      "image/png": "[encoded data removed]",
      "text/plain": [
       "<Figure size 700x200 with 1 Axes>"
      ]
     },
     "metadata": {},
     "output_type": "display_data"
    }
   ],
   "source": [
    "Detergents_Paper = df.groupby([\"Channel\",'Region'])[\"Detergents_Paper\"].sum()\n",
    "print(Detergents_Paper)\n",
    "Detergents_Paper.plot(kind ='barh',figsize=(7,2))\n",
    "plt.xlabel('Detergents_Paper')"
   ]
  },
  {
   "cell_type": "code",
   "execution_count": 114,
   "id": "c08db3b0",
   "metadata": {},
   "outputs": [],
   "source": [
    "# for Delicatessen"
   ]
  },
  {
   "cell_type": "code",
   "execution_count": 186,
   "id": "74ae22d3",
   "metadata": {},
   "outputs": [
    {
     "name": "stdout",
     "output_type": "stream",
     "text": [
      "Channel  Region\n",
      "Hotel    Lisbon     67716.25\n",
      "         Oporto     29294.25\n",
      "         Other     243386.25\n",
      "Retail   Lisbon     30078.50\n",
      "         Oporto     23541.00\n",
      "         Other     163338.50\n",
      "Name: Delicatessen, dtype: float64\n"
     ]
    },
    {
     "data": {
      "text/plain": [
       "Text(0.5, 0, 'Delicatessen')"
      ]
     },
     "execution_count": 186,
     "metadata": {},
     "output_type": "execute_result"
    },
    {
     "data": {
      "image/png": "[encoded data removed]",
      "text/plain": [
       "<Figure size 700x200 with 1 Axes>"
      ]
     },
     "metadata": {},
     "output_type": "display_data"
    }
   ],
   "source": [
    "Delicatessen = df.groupby([\"Channel\",'Region'])[\"Delicatessen\"].sum()\n",
    "print(Delicatessen)\n",
    "Delicatessen.plot(kind ='barh',figsize=(7,2))\n",
    "plt.xlabel('Delicatessen')"
   ]
  },
  {
   "cell_type": "markdown",
   "id": "75895f79",
   "metadata": {},
   "source": [
    "# 1.3 On the basis of a descriptive measure of variability, which item shows the most inconsistent behaviour? Which items show the least inconsistent behaviour?"
   ]
  },
  {
   "cell_type": "code",
   "execution_count": 116,
   "id": "4ac26a80",
   "metadata": {},
   "outputs": [],
   "source": [
    "#define function to calculate cv\n",
    "cv = lambda x: np.std(x, ddof=1) / np.mean(x) * 100 "
   ]
  },
  {
   "cell_type": "code",
   "execution_count": 118,
   "id": "47cd5df1",
   "metadata": {},
   "outputs": [
    {
     "data": {
      "text/html": [
       "<div>\n",
       "<style scoped>\n",
       "    .dataframe tbody tr th:only-of-type {\n",
       "        vertical-align: middle;\n",
       "    }\n",
       "\n",
       "    .dataframe tbody tr th {\n",
       "        vertical-align: top;\n",
       "    }\n",
       "\n",
       "    .dataframe thead th {\n",
       "        text-align: right;\n",
       "    }\n",
       "</style>\n",
       "<table border=\"1\" class=\"dataframe\">\n",
       "  <thead>\n",
       "    <tr style=\"text-align: right;\">\n",
       "      <th></th>\n",
       "      <th>Fresh</th>\n",
       "      <th>Milk</th>\n",
       "      <th>Grocery</th>\n",
       "      <th>Frozen</th>\n",
       "      <th>Detergents_Paper</th>\n",
       "      <th>Delicatessen</th>\n",
       "    </tr>\n",
       "  </thead>\n",
       "  <tbody>\n",
       "    <tr>\n",
       "      <th>0</th>\n",
       "      <td>12669</td>\n",
       "      <td>9656</td>\n",
       "      <td>7561</td>\n",
       "      <td>214</td>\n",
       "      <td>2674</td>\n",
       "      <td>1338</td>\n",
       "    </tr>\n",
       "    <tr>\n",
       "      <th>1</th>\n",
       "      <td>7057</td>\n",
       "      <td>9810</td>\n",
       "      <td>9568</td>\n",
       "      <td>1762</td>\n",
       "      <td>3293</td>\n",
       "      <td>1776</td>\n",
       "    </tr>\n",
       "    <tr>\n",
       "      <th>2</th>\n",
       "      <td>6353</td>\n",
       "      <td>8808</td>\n",
       "      <td>7684</td>\n",
       "      <td>2405</td>\n",
       "      <td>3516</td>\n",
       "      <td>7844</td>\n",
       "    </tr>\n",
       "    <tr>\n",
       "      <th>3</th>\n",
       "      <td>13265</td>\n",
       "      <td>1196</td>\n",
       "      <td>4221</td>\n",
       "      <td>6404</td>\n",
       "      <td>507</td>\n",
       "      <td>1788</td>\n",
       "    </tr>\n",
       "    <tr>\n",
       "      <th>4</th>\n",
       "      <td>22615</td>\n",
       "      <td>5410</td>\n",
       "      <td>7198</td>\n",
       "      <td>3915</td>\n",
       "      <td>1777</td>\n",
       "      <td>5185</td>\n",
       "    </tr>\n",
       "  </tbody>\n",
       "</table>\n",
       "</div>"
      ],
      "text/plain": [
       "   Fresh  Milk  Grocery  Frozen  Detergents_Paper  Delicatessen\n",
       "0  12669  9656     7561     214              2674          1338\n",
       "1   7057  9810     9568    1762              3293          1776\n",
       "2   6353  8808     7684    2405              3516          7844\n",
       "3  13265  1196     4221    6404               507          1788\n",
       "4  22615  5410     7198    3915              1777          5185"
      ]
     },
     "execution_count": 118,
     "metadata": {},
     "output_type": "execute_result"
    }
   ],
   "source": [
    "df_num_var = df.drop(['Channel','Region','Buyer/Spender'],axis = 1)\n",
    "df_num_var.head()"
   ]
  },
  {
   "cell_type": "code",
   "execution_count": 167,
   "id": "9389dc21",
   "metadata": {},
   "outputs": [
    {
     "data": {
      "text/plain": [
       "Fresh               105.391792\n",
       "Milk                127.329858\n",
       "Grocery             119.517437\n",
       "Frozen              158.033238\n",
       "Detergents_Paper    165.464714\n",
       "Delicatessen        184.940690\n",
       "dtype: float64"
      ]
     },
     "execution_count": 167,
     "metadata": {},
     "output_type": "execute_result"
    }
   ],
   "source": [
    "df_num_var.apply(cv)"
   ]
  },
  {
   "cell_type": "markdown",
   "id": "dc38dd34",
   "metadata": {},
   "source": [
    "# 1.4 Are there any outliers in the data? Back up your answer with a suitable plot/technique with the help of detailed comments."
   ]
  },
  {
   "cell_type": "code",
   "execution_count": 120,
   "id": "e6417667",
   "metadata": {},
   "outputs": [
    {
     "data": {
      "text/html": [
       "<div>\n",
       "<style scoped>\n",
       "    .dataframe tbody tr th:only-of-type {\n",
       "        vertical-align: middle;\n",
       "    }\n",
       "\n",
       "    .dataframe tbody tr th {\n",
       "        vertical-align: top;\n",
       "    }\n",
       "\n",
       "    .dataframe thead th {\n",
       "        text-align: right;\n",
       "    }\n",
       "</style>\n",
       "<table border=\"1\" class=\"dataframe\">\n",
       "  <thead>\n",
       "    <tr style=\"text-align: right;\">\n",
       "      <th></th>\n",
       "      <th>Buyer/Spender</th>\n",
       "      <th>Fresh</th>\n",
       "      <th>Milk</th>\n",
       "      <th>Grocery</th>\n",
       "      <th>Frozen</th>\n",
       "      <th>Detergents_Paper</th>\n",
       "      <th>Delicatessen</th>\n",
       "    </tr>\n",
       "  </thead>\n",
       "  <tbody>\n",
       "    <tr>\n",
       "      <th>0</th>\n",
       "      <td>1</td>\n",
       "      <td>12669</td>\n",
       "      <td>9656</td>\n",
       "      <td>7561</td>\n",
       "      <td>214</td>\n",
       "      <td>2674</td>\n",
       "      <td>1338</td>\n",
       "    </tr>\n",
       "    <tr>\n",
       "      <th>1</th>\n",
       "      <td>2</td>\n",
       "      <td>7057</td>\n",
       "      <td>9810</td>\n",
       "      <td>9568</td>\n",
       "      <td>1762</td>\n",
       "      <td>3293</td>\n",
       "      <td>1776</td>\n",
       "    </tr>\n",
       "    <tr>\n",
       "      <th>2</th>\n",
       "      <td>3</td>\n",
       "      <td>6353</td>\n",
       "      <td>8808</td>\n",
       "      <td>7684</td>\n",
       "      <td>2405</td>\n",
       "      <td>3516</td>\n",
       "      <td>7844</td>\n",
       "    </tr>\n",
       "    <tr>\n",
       "      <th>3</th>\n",
       "      <td>4</td>\n",
       "      <td>13265</td>\n",
       "      <td>1196</td>\n",
       "      <td>4221</td>\n",
       "      <td>6404</td>\n",
       "      <td>507</td>\n",
       "      <td>1788</td>\n",
       "    </tr>\n",
       "    <tr>\n",
       "      <th>4</th>\n",
       "      <td>5</td>\n",
       "      <td>22615</td>\n",
       "      <td>5410</td>\n",
       "      <td>7198</td>\n",
       "      <td>3915</td>\n",
       "      <td>1777</td>\n",
       "      <td>5185</td>\n",
       "    </tr>\n",
       "  </tbody>\n",
       "</table>\n",
       "</div>"
      ],
      "text/plain": [
       "   Buyer/Spender  Fresh  Milk  Grocery  Frozen  Detergents_Paper  Delicatessen\n",
       "0              1  12669  9656     7561     214              2674          1338\n",
       "1              2   7057  9810     9568    1762              3293          1776\n",
       "2              3   6353  8808     7684    2405              3516          7844\n",
       "3              4  13265  1196     4221    6404               507          1788\n",
       "4              5  22615  5410     7198    3915              1777          5185"
      ]
     },
     "execution_count": 120,
     "metadata": {},
     "output_type": "execute_result"
    }
   ],
   "source": [
    "df_num = df.drop(['Channel','Region'],axis = 1)\n",
    "df_num.head()"
   ]
  },
  {
   "cell_type": "code",
   "execution_count": 121,
   "id": "626ab838",
   "metadata": {},
   "outputs": [
    {
     "data": {
      "text/html": [
       "<div>\n",
       "<style scoped>\n",
       "    .dataframe tbody tr th:only-of-type {\n",
       "        vertical-align: middle;\n",
       "    }\n",
       "\n",
       "    .dataframe tbody tr th {\n",
       "        vertical-align: top;\n",
       "    }\n",
       "\n",
       "    .dataframe thead th {\n",
       "        text-align: right;\n",
       "    }\n",
       "</style>\n",
       "<table border=\"1\" class=\"dataframe\">\n",
       "  <thead>\n",
       "    <tr style=\"text-align: right;\">\n",
       "      <th></th>\n",
       "      <th>Channel</th>\n",
       "      <th>Region</th>\n",
       "    </tr>\n",
       "  </thead>\n",
       "  <tbody>\n",
       "    <tr>\n",
       "      <th>0</th>\n",
       "      <td>Retail</td>\n",
       "      <td>Other</td>\n",
       "    </tr>\n",
       "    <tr>\n",
       "      <th>1</th>\n",
       "      <td>Retail</td>\n",
       "      <td>Other</td>\n",
       "    </tr>\n",
       "    <tr>\n",
       "      <th>2</th>\n",
       "      <td>Retail</td>\n",
       "      <td>Other</td>\n",
       "    </tr>\n",
       "    <tr>\n",
       "      <th>3</th>\n",
       "      <td>Hotel</td>\n",
       "      <td>Other</td>\n",
       "    </tr>\n",
       "    <tr>\n",
       "      <th>4</th>\n",
       "      <td>Retail</td>\n",
       "      <td>Other</td>\n",
       "    </tr>\n",
       "  </tbody>\n",
       "</table>\n",
       "</div>"
      ],
      "text/plain": [
       "  Channel Region\n",
       "0  Retail  Other\n",
       "1  Retail  Other\n",
       "2  Retail  Other\n",
       "3   Hotel  Other\n",
       "4  Retail  Other"
      ]
     },
     "execution_count": 121,
     "metadata": {},
     "output_type": "execute_result"
    }
   ],
   "source": [
    "df_cat = df[['Channel','Region']]\n",
    "df_cat.head()"
   ]
  },
  {
   "cell_type": "code",
   "execution_count": 122,
   "id": "4f2f2769",
   "metadata": {
    "scrolled": false
   },
   "outputs": [
    {
     "name": "stdout",
     "output_type": "stream",
     "text": [
      "Buyer/Spender\n",
      "Skew : 0.0\n"
     ]
    },
    {
     "data": {
      "image/png": "[encoded data removed]",
      "text/plain": [
       "<Figure size 1500x400 with 2 Axes>"
      ]
     },
     "metadata": {},
     "output_type": "display_data"
    },
    {
     "name": "stdout",
     "output_type": "stream",
     "text": [
      "Fresh\n",
      "Skew : 2.56\n"
     ]
    },
    {
     "data": {
      "image/png": "[encoded data removed]",
      "text/plain": [
       "<Figure size 1500x400 with 2 Axes>"
      ]
     },
     "metadata": {},
     "output_type": "display_data"
    },
    {
     "name": "stdout",
     "output_type": "stream",
     "text": [
      "Milk\n",
      "Skew : 4.05\n"
     ]
    },
    {
     "data": {
      "image/png": "[encoded data removed]",
      "text/plain": [
       "<Figure size 1500x400 with 2 Axes>"
      ]
     },
     "metadata": {},
     "output_type": "display_data"
    },
    {
     "name": "stdout",
     "output_type": "stream",
     "text": [
      "Grocery\n",
      "Skew : 3.59\n"
     ]
    },
    {
     "data": {
      "image/png": "[encoded data removed]",
      "text/plain": [
       "<Figure size 1500x400 with 2 Axes>"
      ]
     },
     "metadata": {},
     "output_type": "display_data"
    },
    {
     "name": "stdout",
     "output_type": "stream",
     "text": [
      "Frozen\n",
      "Skew : 5.91\n"
     ]
    },
    {
     "data": {
      "image/png": "[encoded data removed]",
      "text/plain": [
       "<Figure size 1500x400 with 2 Axes>"
      ]
     },
     "metadata": {},
     "output_type": "display_data"
    },
    {
     "name": "stdout",
     "output_type": "stream",
     "text": [
      "Detergents_Paper\n",
      "Skew : 3.63\n"
     ]
    },
    {
     "data": {
      "image/png": "[encoded data removed]",
      "text/plain": [
       "<Figure size 1500x400 with 2 Axes>"
      ]
     },
     "metadata": {},
     "output_type": "display_data"
    },
    {
     "name": "stdout",
     "output_type": "stream",
     "text": [
      "Delicatessen\n",
      "Skew : 11.15\n"
     ]
    },
    {
     "data": {
      "image/png": "[encoded data removed]",
      "text/plain": [
       "<Figure size 1500x400 with 2 Axes>"
      ]
     },
     "metadata": {},
     "output_type": "display_data"
    }
   ],
   "source": [
    "for col in df_num.columns[:]:\n",
    "    print(col)\n",
    "    print('Skew :',round(df_num[col].skew(),2))\n",
    "    plt.figure(figsize=(15,4))\n",
    "    plt.subplot(1,2,1)\n",
    "    df_num[col].hist(bins=10,grid=False)\n",
    "    plt.ylabel('count')\n",
    "    plt.subplot(1,2,2)\n",
    "    sns.boxplot(x=df_num[col])\n",
    "    plt.show()"
   ]
  },
  {
   "cell_type": "code",
   "execution_count": 123,
   "id": "b81edf3e",
   "metadata": {},
   "outputs": [],
   "source": [
    "#Treating Outliers"
   ]
  },
  {
   "cell_type": "code",
   "execution_count": 124,
   "id": "2a5014dc",
   "metadata": {},
   "outputs": [],
   "source": [
    "def remove_outlier(col):\n",
    "    sorted(col)\n",
    "    Q1,Q3=np.percentile(col,[25,75])\n",
    "    IQR=Q3-Q1\n",
    "    lower_range= Q1-(1.5 * IQR)\n",
    "    upper_range= Q3+(1.5 * IQR)\n",
    "    return lower_range, upper_range"
   ]
  },
  {
   "cell_type": "code",
   "execution_count": 125,
   "id": "b7c1bf54",
   "metadata": {},
   "outputs": [
    {
     "name": "stdout",
     "output_type": "stream",
     "text": [
      "Buyer/Spender\n",
      "Fresh\n",
      "Milk\n",
      "Grocery\n",
      "Frozen\n",
      "Detergents_Paper\n",
      "Delicatessen\n"
     ]
    }
   ],
   "source": [
    "for column in df_num.columns[:]:\n",
    "    lr,ur=remove_outlier(df_num[column])\n",
    "    df_num[column]=np.where(df_num[column]>ur,ur,df_num[column])\n",
    "    df_num[column]=np.where(df_num[column]<lr,lr,df_num[column])\n",
    "    plt.show()\n",
    "    print(column)"
   ]
  },
  {
   "cell_type": "code",
   "execution_count": 126,
   "id": "e1b78cce",
   "metadata": {},
   "outputs": [],
   "source": [
    "#Checking if outliers are treated or not"
   ]
  },
  {
   "cell_type": "code",
   "execution_count": 127,
   "id": "d2c2cd21",
   "metadata": {
    "scrolled": false
   },
   "outputs": [
    {
     "name": "stdout",
     "output_type": "stream",
     "text": [
      "Buyer/Spender\n",
      "Skew : 0.0\n"
     ]
    },
    {
     "data": {
      "image/png": "[encoded data removed]",
      "text/plain": [
       "<Figure size 1500x400 with 2 Axes>"
      ]
     },
     "metadata": {},
     "output_type": "display_data"
    },
    {
     "name": "stdout",
     "output_type": "stream",
     "text": [
      "Fresh\n",
      "Skew : 1.11\n"
     ]
    },
    {
     "data": {
      "image/png": "[encoded data removed]",
      "text/plain": [
       "<Figure size 1500x400 with 2 Axes>"
      ]
     },
     "metadata": {},
     "output_type": "display_data"
    },
    {
     "name": "stdout",
     "output_type": "stream",
     "text": [
      "Milk\n",
      "Skew : 1.11\n"
     ]
    },
    {
     "data": {
      "image/png": "[encoded data removed]",
      "text/plain": [
       "<Figure size 1500x400 with 2 Axes>"
      ]
     },
     "metadata": {},
     "output_type": "display_data"
    },
    {
     "name": "stdout",
     "output_type": "stream",
     "text": [
      "Grocery\n",
      "Skew : 1.18\n"
     ]
    },
    {
     "data": {
      "image/png": "[encoded data removed]",
      "text/plain": [
       "<Figure size 1500x400 with 2 Axes>"
      ]
     },
     "metadata": {},
     "output_type": "display_data"
    },
    {
     "name": "stdout",
     "output_type": "stream",
     "text": [
      "Frozen\n",
      "Skew : 1.12\n"
     ]
    },
    {
     "data": {
      "image/png": "[encoded data removed]",
      "text/plain": [
       "<Figure size 1500x400 with 2 Axes>"
      ]
     },
     "metadata": {},
     "output_type": "display_data"
    },
    {
     "name": "stdout",
     "output_type": "stream",
     "text": [
      "Detergents_Paper\n",
      "Skew : 1.27\n"
     ]
    },
    {
     "data": {
      "image/png": "[encoded data removed]",
      "text/plain": [
       "<Figure size 1500x400 with 2 Axes>"
      ]
     },
     "metadata": {},
     "output_type": "display_data"
    },
    {
     "name": "stdout",
     "output_type": "stream",
     "text": [
      "Delicatessen\n",
      "Skew : 1.07\n"
     ]
    },
    {
     "data": {
      "image/png": "[encoded data removed]",
      "text/plain": [
       "<Figure size 1500x400 with 2 Axes>"
      ]
     },
     "metadata": {},
     "output_type": "display_data"
    }
   ],
   "source": [
    "for col in df_num.columns[:]:\n",
    "    print(col)\n",
    "    print('Skew :',round(df_num[col].skew(),2))\n",
    "    plt.figure(figsize=(15,4))\n",
    "    plt.subplot(1,2,1)\n",
    "    df_num[col].hist(bins=10,grid=False)\n",
    "    plt.ylabel('count')\n",
    "    plt.subplot(1,2,2)\n",
    "    sns.boxplot(x=df_num[col])\n",
    "    plt.show()"
   ]
  },
  {
   "cell_type": "code",
   "execution_count": 128,
   "id": "fd8f6983",
   "metadata": {},
   "outputs": [
    {
     "data": {
      "text/html": [
       "<div>\n",
       "<style scoped>\n",
       "    .dataframe tbody tr th:only-of-type {\n",
       "        vertical-align: middle;\n",
       "    }\n",
       "\n",
       "    .dataframe tbody tr th {\n",
       "        vertical-align: top;\n",
       "    }\n",
       "\n",
       "    .dataframe thead th {\n",
       "        text-align: right;\n",
       "    }\n",
       "</style>\n",
       "<table border=\"1\" class=\"dataframe\">\n",
       "  <thead>\n",
       "    <tr style=\"text-align: right;\">\n",
       "      <th></th>\n",
       "      <th>Channel</th>\n",
       "      <th>Region</th>\n",
       "    </tr>\n",
       "  </thead>\n",
       "  <tbody>\n",
       "    <tr>\n",
       "      <th>0</th>\n",
       "      <td>Retail</td>\n",
       "      <td>Other</td>\n",
       "    </tr>\n",
       "    <tr>\n",
       "      <th>1</th>\n",
       "      <td>Retail</td>\n",
       "      <td>Other</td>\n",
       "    </tr>\n",
       "    <tr>\n",
       "      <th>2</th>\n",
       "      <td>Retail</td>\n",
       "      <td>Other</td>\n",
       "    </tr>\n",
       "    <tr>\n",
       "      <th>3</th>\n",
       "      <td>Hotel</td>\n",
       "      <td>Other</td>\n",
       "    </tr>\n",
       "    <tr>\n",
       "      <th>4</th>\n",
       "      <td>Retail</td>\n",
       "      <td>Other</td>\n",
       "    </tr>\n",
       "  </tbody>\n",
       "</table>\n",
       "</div>"
      ],
      "text/plain": [
       "  Channel Region\n",
       "0  Retail  Other\n",
       "1  Retail  Other\n",
       "2  Retail  Other\n",
       "3   Hotel  Other\n",
       "4  Retail  Other"
      ]
     },
     "execution_count": 128,
     "metadata": {},
     "output_type": "execute_result"
    }
   ],
   "source": [
    "df_cat.head()"
   ]
  },
  {
   "cell_type": "code",
   "execution_count": 168,
   "id": "2c854711",
   "metadata": {},
   "outputs": [
    {
     "data": {
      "text/html": [
       "<div>\n",
       "<style scoped>\n",
       "    .dataframe tbody tr th:only-of-type {\n",
       "        vertical-align: middle;\n",
       "    }\n",
       "\n",
       "    .dataframe tbody tr th {\n",
       "        vertical-align: top;\n",
       "    }\n",
       "\n",
       "    .dataframe thead th {\n",
       "        text-align: right;\n",
       "    }\n",
       "</style>\n",
       "<table border=\"1\" class=\"dataframe\">\n",
       "  <thead>\n",
       "    <tr style=\"text-align: right;\">\n",
       "      <th></th>\n",
       "      <th>Buyer/Spender</th>\n",
       "      <th>Fresh</th>\n",
       "      <th>Milk</th>\n",
       "      <th>Grocery</th>\n",
       "      <th>Frozen</th>\n",
       "      <th>Detergents_Paper</th>\n",
       "      <th>Delicatessen</th>\n",
       "      <th>Channel</th>\n",
       "      <th>Region</th>\n",
       "    </tr>\n",
       "  </thead>\n",
       "  <tbody>\n",
       "    <tr>\n",
       "      <th>0</th>\n",
       "      <td>1.0</td>\n",
       "      <td>12669.0</td>\n",
       "      <td>9656.0</td>\n",
       "      <td>7561.0</td>\n",
       "      <td>214.0</td>\n",
       "      <td>2674.0</td>\n",
       "      <td>1338.00</td>\n",
       "      <td>Retail</td>\n",
       "      <td>Other</td>\n",
       "    </tr>\n",
       "    <tr>\n",
       "      <th>1</th>\n",
       "      <td>2.0</td>\n",
       "      <td>7057.0</td>\n",
       "      <td>9810.0</td>\n",
       "      <td>9568.0</td>\n",
       "      <td>1762.0</td>\n",
       "      <td>3293.0</td>\n",
       "      <td>1776.00</td>\n",
       "      <td>Retail</td>\n",
       "      <td>Other</td>\n",
       "    </tr>\n",
       "    <tr>\n",
       "      <th>2</th>\n",
       "      <td>3.0</td>\n",
       "      <td>6353.0</td>\n",
       "      <td>8808.0</td>\n",
       "      <td>7684.0</td>\n",
       "      <td>2405.0</td>\n",
       "      <td>3516.0</td>\n",
       "      <td>3938.25</td>\n",
       "      <td>Retail</td>\n",
       "      <td>Other</td>\n",
       "    </tr>\n",
       "    <tr>\n",
       "      <th>3</th>\n",
       "      <td>4.0</td>\n",
       "      <td>13265.0</td>\n",
       "      <td>1196.0</td>\n",
       "      <td>4221.0</td>\n",
       "      <td>6404.0</td>\n",
       "      <td>507.0</td>\n",
       "      <td>1788.00</td>\n",
       "      <td>Hotel</td>\n",
       "      <td>Other</td>\n",
       "    </tr>\n",
       "    <tr>\n",
       "      <th>4</th>\n",
       "      <td>5.0</td>\n",
       "      <td>22615.0</td>\n",
       "      <td>5410.0</td>\n",
       "      <td>7198.0</td>\n",
       "      <td>3915.0</td>\n",
       "      <td>1777.0</td>\n",
       "      <td>3938.25</td>\n",
       "      <td>Retail</td>\n",
       "      <td>Other</td>\n",
       "    </tr>\n",
       "  </tbody>\n",
       "</table>\n",
       "</div>"
      ],
      "text/plain": [
       "   Buyer/Spender    Fresh    Milk  Grocery  Frozen  Detergents_Paper  \\\n",
       "0            1.0  12669.0  9656.0   7561.0   214.0            2674.0   \n",
       "1            2.0   7057.0  9810.0   9568.0  1762.0            3293.0   \n",
       "2            3.0   6353.0  8808.0   7684.0  2405.0            3516.0   \n",
       "3            4.0  13265.0  1196.0   4221.0  6404.0             507.0   \n",
       "4            5.0  22615.0  5410.0   7198.0  3915.0            1777.0   \n",
       "\n",
       "   Delicatessen Channel Region  \n",
       "0       1338.00  Retail  Other  \n",
       "1       1776.00  Retail  Other  \n",
       "2       3938.25  Retail  Other  \n",
       "3       1788.00   Hotel  Other  \n",
       "4       3938.25  Retail  Other  "
      ]
     },
     "execution_count": 168,
     "metadata": {},
     "output_type": "execute_result"
    }
   ],
   "source": [
    "df_new = pd.concat([df_num, df_cat], axis=1, join='inner')\n",
    "df_new.head()"
   ]
  },
  {
   "cell_type": "code",
   "execution_count": 130,
   "id": "bd256cf7",
   "metadata": {},
   "outputs": [
    {
     "data": {
      "text/plain": [
       "(440, 9)"
      ]
     },
     "execution_count": 130,
     "metadata": {},
     "output_type": "execute_result"
    }
   ],
   "source": [
    "df_new.shape"
   ]
  },
  {
   "cell_type": "code",
   "execution_count": 131,
   "id": "6a46df72",
   "metadata": {},
   "outputs": [],
   "source": [
    "df = df_new"
   ]
  },
  {
   "cell_type": "code",
   "execution_count": 132,
   "id": "cd028423",
   "metadata": {},
   "outputs": [
    {
     "data": {
      "text/html": [
       "<div>\n",
       "<style scoped>\n",
       "    .dataframe tbody tr th:only-of-type {\n",
       "        vertical-align: middle;\n",
       "    }\n",
       "\n",
       "    .dataframe tbody tr th {\n",
       "        vertical-align: top;\n",
       "    }\n",
       "\n",
       "    .dataframe thead th {\n",
       "        text-align: right;\n",
       "    }\n",
       "</style>\n",
       "<table border=\"1\" class=\"dataframe\">\n",
       "  <thead>\n",
       "    <tr style=\"text-align: right;\">\n",
       "      <th></th>\n",
       "      <th>Buyer/Spender</th>\n",
       "      <th>Fresh</th>\n",
       "      <th>Milk</th>\n",
       "      <th>Grocery</th>\n",
       "      <th>Frozen</th>\n",
       "      <th>Detergents_Paper</th>\n",
       "      <th>Delicatessen</th>\n",
       "      <th>Channel</th>\n",
       "      <th>Region</th>\n",
       "    </tr>\n",
       "  </thead>\n",
       "  <tbody>\n",
       "    <tr>\n",
       "      <th>0</th>\n",
       "      <td>1.0</td>\n",
       "      <td>12669.0</td>\n",
       "      <td>9656.0</td>\n",
       "      <td>7561.0</td>\n",
       "      <td>214.0</td>\n",
       "      <td>2674.0</td>\n",
       "      <td>1338.00</td>\n",
       "      <td>Retail</td>\n",
       "      <td>Other</td>\n",
       "    </tr>\n",
       "    <tr>\n",
       "      <th>1</th>\n",
       "      <td>2.0</td>\n",
       "      <td>7057.0</td>\n",
       "      <td>9810.0</td>\n",
       "      <td>9568.0</td>\n",
       "      <td>1762.0</td>\n",
       "      <td>3293.0</td>\n",
       "      <td>1776.00</td>\n",
       "      <td>Retail</td>\n",
       "      <td>Other</td>\n",
       "    </tr>\n",
       "    <tr>\n",
       "      <th>2</th>\n",
       "      <td>3.0</td>\n",
       "      <td>6353.0</td>\n",
       "      <td>8808.0</td>\n",
       "      <td>7684.0</td>\n",
       "      <td>2405.0</td>\n",
       "      <td>3516.0</td>\n",
       "      <td>3938.25</td>\n",
       "      <td>Retail</td>\n",
       "      <td>Other</td>\n",
       "    </tr>\n",
       "    <tr>\n",
       "      <th>3</th>\n",
       "      <td>4.0</td>\n",
       "      <td>13265.0</td>\n",
       "      <td>1196.0</td>\n",
       "      <td>4221.0</td>\n",
       "      <td>6404.0</td>\n",
       "      <td>507.0</td>\n",
       "      <td>1788.00</td>\n",
       "      <td>Hotel</td>\n",
       "      <td>Other</td>\n",
       "    </tr>\n",
       "    <tr>\n",
       "      <th>4</th>\n",
       "      <td>5.0</td>\n",
       "      <td>22615.0</td>\n",
       "      <td>5410.0</td>\n",
       "      <td>7198.0</td>\n",
       "      <td>3915.0</td>\n",
       "      <td>1777.0</td>\n",
       "      <td>3938.25</td>\n",
       "      <td>Retail</td>\n",
       "      <td>Other</td>\n",
       "    </tr>\n",
       "  </tbody>\n",
       "</table>\n",
       "</div>"
      ],
      "text/plain": [
       "   Buyer/Spender    Fresh    Milk  Grocery  Frozen  Detergents_Paper  \\\n",
       "0            1.0  12669.0  9656.0   7561.0   214.0            2674.0   \n",
       "1            2.0   7057.0  9810.0   9568.0  1762.0            3293.0   \n",
       "2            3.0   6353.0  8808.0   7684.0  2405.0            3516.0   \n",
       "3            4.0  13265.0  1196.0   4221.0  6404.0             507.0   \n",
       "4            5.0  22615.0  5410.0   7198.0  3915.0            1777.0   \n",
       "\n",
       "   Delicatessen Channel Region  \n",
       "0       1338.00  Retail  Other  \n",
       "1       1776.00  Retail  Other  \n",
       "2       3938.25  Retail  Other  \n",
       "3       1788.00   Hotel  Other  \n",
       "4       3938.25  Retail  Other  "
      ]
     },
     "execution_count": 132,
     "metadata": {},
     "output_type": "execute_result"
    }
   ],
   "source": [
    "df.head()"
   ]
  },
  {
   "cell_type": "code",
   "execution_count": null,
   "id": "4471703f",
   "metadata": {},
   "outputs": [],
   "source": []
  }
 ],
 "metadata": {
  "kernelspec": {
   "display_name": "Python 3 (ipykernel)",
   "language": "python",
   "name": "python3"
  },
  "language_info": {
   "codemirror_mode": {
    "name": "ipython",
    "version": 3
   },
   "file_extension": ".py",
   "mimetype": "text/x-python",
   "name": "python",
   "nbconvert_exporter": "python",
   "pygments_lexer": "ipython3",
   "version": "3.9.13"
  }
 },
 "nbformat": 4,
 "nbformat_minor": 5
}
